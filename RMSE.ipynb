{
  "nbformat": 4,
  "nbformat_minor": 0,
  "metadata": {
    "colab": {
      "name": "RMSE.ipynb",
      "provenance": [],
      "collapsed_sections": [],
      "authorship_tag": "ABX9TyNqBbaK84M97shHDlwZfY13",
      "include_colab_link": true
    },
    "kernelspec": {
      "name": "python3",
      "display_name": "Python 3"
    }
  },
  "cells": [
    {
      "cell_type": "markdown",
      "metadata": {
        "id": "view-in-github",
        "colab_type": "text"
      },
      "source": [
        "<a href=\"https://colab.research.google.com/github/JaebinChoi/Recommendation-System/blob/master/RMSE.ipynb\" target=\"_parent\"><img src=\"https://colab.research.google.com/assets/colab-badge.svg\" alt=\"Open In Colab\"/></a>"
      ]
    },
    {
      "cell_type": "code",
      "metadata": {
        "id": "viS04QdVbjUQ",
        "colab_type": "code",
        "colab": {
          "base_uri": "https://localhost:8080/",
          "height": 142
        },
        "outputId": "7ce2ded5-e829-4cd9-c5e0-c407f28e773d"
      },
      "source": [
        "from google.colab import drive\n",
        "drive.mount('/gdrive')\n",
        "%cd /gdrive"
      ],
      "execution_count": null,
      "outputs": [
        {
          "output_type": "stream",
          "text": [
            "Go to this URL in a browser: https://accounts.google.com/o/oauth2/auth?client_id=947318989803-6bn6qk8qdgf4n4g3pfee6491hc0brc4i.apps.googleusercontent.com&redirect_uri=urn%3aietf%3awg%3aoauth%3a2.0%3aoob&scope=email%20https%3a%2f%2fwww.googleapis.com%2fauth%2fdocs.test%20https%3a%2f%2fwww.googleapis.com%2fauth%2fdrive%20https%3a%2f%2fwww.googleapis.com%2fauth%2fdrive.photos.readonly%20https%3a%2f%2fwww.googleapis.com%2fauth%2fpeopleapi.readonly&response_type=code\n",
            "\n",
            "Enter your authorization code:\n",
            "··········\n",
            "Mounted at /gdrive\n",
            "/gdrive\n"
          ],
          "name": "stdout"
        }
      ]
    },
    {
      "cell_type": "code",
      "metadata": {
        "id": "i6dMWX38bpbc",
        "colab_type": "code",
        "colab": {
          "base_uri": "https://localhost:8080/",
          "height": 35
        },
        "outputId": "43a39433-2c7a-40b5-fd09-8e9f51cdc215"
      },
      "source": [
        "import pandas as pd\n",
        "pd.__version__"
      ],
      "execution_count": null,
      "outputs": [
        {
          "output_type": "execute_result",
          "data": {
            "application/vnd.google.colaboratory.intrinsic+json": {
              "type": "string"
            },
            "text/plain": [
              "'1.0.5'"
            ]
          },
          "metadata": {
            "tags": []
          },
          "execution_count": 2
        }
      ]
    },
    {
      "cell_type": "code",
      "metadata": {
        "id": "Uhm1RAbZb8BY",
        "colab_type": "code",
        "colab": {}
      },
      "source": [
        "path = '/gdrive/My Drive/Recommend'\n",
        "ratings = pd.read_pickle('%s/data/ml-latest-small/ratings_updated.p' % path)"
      ],
      "execution_count": null,
      "outputs": []
    },
    {
      "cell_type": "code",
      "metadata": {
        "id": "ZS-1WqY0cJ8d",
        "colab_type": "code",
        "colab": {
          "base_uri": "https://localhost:8080/",
          "height": 402
        },
        "outputId": "00f06cc3-3fed-4961-a99a-4bf6635b214a"
      },
      "source": [
        "ratings"
      ],
      "execution_count": null,
      "outputs": [
        {
          "output_type": "execute_result",
          "data": {
            "text/html": [
              "<div>\n",
              "<style scoped>\n",
              "    .dataframe tbody tr th:only-of-type {\n",
              "        vertical-align: middle;\n",
              "    }\n",
              "\n",
              "    .dataframe tbody tr th {\n",
              "        vertical-align: top;\n",
              "    }\n",
              "\n",
              "    .dataframe thead th {\n",
              "        text-align: right;\n",
              "    }\n",
              "</style>\n",
              "<table border=\"1\" class=\"dataframe\">\n",
              "  <thead>\n",
              "    <tr style=\"text-align: right;\">\n",
              "      <th></th>\n",
              "      <th>userId</th>\n",
              "      <th>movieId</th>\n",
              "      <th>rating</th>\n",
              "      <th>timestamp</th>\n",
              "    </tr>\n",
              "  </thead>\n",
              "  <tbody>\n",
              "    <tr>\n",
              "      <th>0</th>\n",
              "      <td>1</td>\n",
              "      <td>1</td>\n",
              "      <td>4.0</td>\n",
              "      <td>2000-07-30 18:45:03</td>\n",
              "    </tr>\n",
              "    <tr>\n",
              "      <th>1</th>\n",
              "      <td>1</td>\n",
              "      <td>3</td>\n",
              "      <td>4.0</td>\n",
              "      <td>2000-07-30 18:20:47</td>\n",
              "    </tr>\n",
              "    <tr>\n",
              "      <th>2</th>\n",
              "      <td>1</td>\n",
              "      <td>6</td>\n",
              "      <td>4.0</td>\n",
              "      <td>2000-07-30 18:37:04</td>\n",
              "    </tr>\n",
              "    <tr>\n",
              "      <th>3</th>\n",
              "      <td>1</td>\n",
              "      <td>47</td>\n",
              "      <td>5.0</td>\n",
              "      <td>2000-07-30 19:03:35</td>\n",
              "    </tr>\n",
              "    <tr>\n",
              "      <th>4</th>\n",
              "      <td>1</td>\n",
              "      <td>50</td>\n",
              "      <td>5.0</td>\n",
              "      <td>2000-07-30 18:48:51</td>\n",
              "    </tr>\n",
              "    <tr>\n",
              "      <th>...</th>\n",
              "      <td>...</td>\n",
              "      <td>...</td>\n",
              "      <td>...</td>\n",
              "      <td>...</td>\n",
              "    </tr>\n",
              "    <tr>\n",
              "      <th>23</th>\n",
              "      <td>1000</td>\n",
              "      <td>2</td>\n",
              "      <td>4.0</td>\n",
              "      <td>2020-08-26 13:16:00</td>\n",
              "    </tr>\n",
              "    <tr>\n",
              "      <th>24</th>\n",
              "      <td>1000</td>\n",
              "      <td>122920</td>\n",
              "      <td>4.0</td>\n",
              "      <td>2020-08-26 13:16:00</td>\n",
              "    </tr>\n",
              "    <tr>\n",
              "      <th>25</th>\n",
              "      <td>1000</td>\n",
              "      <td>110102</td>\n",
              "      <td>3.7</td>\n",
              "      <td>2020-08-26 13:16:00</td>\n",
              "    </tr>\n",
              "    <tr>\n",
              "      <th>26</th>\n",
              "      <td>1000</td>\n",
              "      <td>159858</td>\n",
              "      <td>4.0</td>\n",
              "      <td>2020-08-26 13:16:00</td>\n",
              "    </tr>\n",
              "    <tr>\n",
              "      <th>27</th>\n",
              "      <td>1000</td>\n",
              "      <td>1721</td>\n",
              "      <td>4.0</td>\n",
              "      <td>2020-08-26 13:16:00</td>\n",
              "    </tr>\n",
              "  </tbody>\n",
              "</table>\n",
              "<p>100864 rows × 4 columns</p>\n",
              "</div>"
            ],
            "text/plain": [
              "    userId  movieId  rating           timestamp\n",
              "0        1        1     4.0 2000-07-30 18:45:03\n",
              "1        1        3     4.0 2000-07-30 18:20:47\n",
              "2        1        6     4.0 2000-07-30 18:37:04\n",
              "3        1       47     5.0 2000-07-30 19:03:35\n",
              "4        1       50     5.0 2000-07-30 18:48:51\n",
              "..     ...      ...     ...                 ...\n",
              "23    1000        2     4.0 2020-08-26 13:16:00\n",
              "24    1000   122920     4.0 2020-08-26 13:16:00\n",
              "25    1000   110102     3.7 2020-08-26 13:16:00\n",
              "26    1000   159858     4.0 2020-08-26 13:16:00\n",
              "27    1000     1721     4.0 2020-08-26 13:16:00\n",
              "\n",
              "[100864 rows x 4 columns]"
            ]
          },
          "metadata": {
            "tags": []
          },
          "execution_count": 5
        }
      ]
    },
    {
      "cell_type": "markdown",
      "metadata": {
        "id": "9SYnsjwxcPd6",
        "colab_type": "text"
      },
      "source": [
        "### 평가지표 RMSE"
      ]
    },
    {
      "cell_type": "code",
      "metadata": {
        "id": "A3V1n4upcbXt",
        "colab_type": "code",
        "colab": {}
      },
      "source": [
        "rating_example = [[4, 3.5], [5, 5], [0.5, 1], [3, 5]]\n",
        "rating_example = pd.DataFrame(rating_example, columns=['Actual', 'Predict'])"
      ],
      "execution_count": null,
      "outputs": []
    },
    {
      "cell_type": "code",
      "metadata": {
        "id": "umshkjoCcVs3",
        "colab_type": "code",
        "colab": {}
      },
      "source": [
        "# error = Actual - Predict\n",
        "rating_example['error'] = rating_example['Actual'] - rating_example['Predict']"
      ],
      "execution_count": null,
      "outputs": []
    },
    {
      "cell_type": "code",
      "metadata": {
        "id": "SvTjJmFrc6Wz",
        "colab_type": "code",
        "colab": {}
      },
      "source": [
        "# squared error : + 와 - 가 캔슬되는 것(0.5 - 0.5 = 0)을 막기 위해 제곱\n",
        "rating_example['squared error'] = rating_example['error'] ** 2"
      ],
      "execution_count": null,
      "outputs": []
    },
    {
      "cell_type": "code",
      "metadata": {
        "id": "CSy9F6d_duLN",
        "colab_type": "code",
        "colab": {
          "base_uri": "https://localhost:8080/",
          "height": 34
        },
        "outputId": "185d5192-48e4-414a-a198-86fc315c31d7"
      },
      "source": [
        "# mean squared error : mse\n",
        "mse = rating_example['squared error'].mean()\n",
        "mse"
      ],
      "execution_count": null,
      "outputs": [
        {
          "output_type": "execute_result",
          "data": {
            "text/plain": [
              "1.125"
            ]
          },
          "metadata": {
            "tags": []
          },
          "execution_count": 15
        }
      ]
    },
    {
      "cell_type": "code",
      "metadata": {
        "id": "8ypOrOISd_jY",
        "colab_type": "code",
        "colab": {}
      },
      "source": [
        "import numpy as np"
      ],
      "execution_count": null,
      "outputs": []
    },
    {
      "cell_type": "code",
      "metadata": {
        "id": "GkM0uV2IeMCX",
        "colab_type": "code",
        "colab": {
          "base_uri": "https://localhost:8080/",
          "height": 34
        },
        "outputId": "3d758b33-471d-4da5-ea5c-eac1fe90a358"
      },
      "source": [
        "# root mean squared error : rmse\n",
        "rmse = np.sqrt(mse)\n",
        "rmse"
      ],
      "execution_count": null,
      "outputs": [
        {
          "output_type": "execute_result",
          "data": {
            "text/plain": [
              "1.0606601717798212"
            ]
          },
          "metadata": {
            "tags": []
          },
          "execution_count": 18
        }
      ]
    },
    {
      "cell_type": "markdown",
      "metadata": {
        "id": "bN0RdJjeeWL4",
        "colab_type": "text"
      },
      "source": [
        "### RMSE with sklearn"
      ]
    },
    {
      "cell_type": "code",
      "metadata": {
        "id": "Osje3rtReaGA",
        "colab_type": "code",
        "colab": {}
      },
      "source": [
        "from sklearn.metrics import mean_squared_error"
      ],
      "execution_count": null,
      "outputs": []
    },
    {
      "cell_type": "code",
      "metadata": {
        "id": "a4ktc3VUfFc6",
        "colab_type": "code",
        "colab": {
          "base_uri": "https://localhost:8080/",
          "height": 34
        },
        "outputId": "2ae70bc4-9b0a-4e15-c30b-779c9c1f4aaa"
      },
      "source": [
        "mse = mean_squared_error(rating_example['Actual'], rating_example['Predict'])\n",
        "rmse = np.sqrt(mse)\n",
        "rmse\n",
        "# 평균적으로 1점 정도 틀리다"
      ],
      "execution_count": null,
      "outputs": [
        {
          "output_type": "execute_result",
          "data": {
            "text/plain": [
              "1.0606601717798212"
            ]
          },
          "metadata": {
            "tags": []
          },
          "execution_count": 21
        }
      ]
    },
    {
      "cell_type": "markdown",
      "metadata": {
        "id": "bu0J4eU-gJWh",
        "colab_type": "text"
      },
      "source": [
        "### Train Task Split"
      ]
    },
    {
      "cell_type": "code",
      "metadata": {
        "id": "SRtESwNdgMqt",
        "colab_type": "code",
        "colab": {}
      },
      "source": [
        "from sklearn.model_selection import train_test_split"
      ],
      "execution_count": null,
      "outputs": []
    },
    {
      "cell_type": "code",
      "metadata": {
        "id": "COMY9qDtgn3w",
        "colab_type": "code",
        "colab": {}
      },
      "source": [
        "# random_state 임의값, test_size(0.1 = 10%)\n",
        "train, test = train_test_split(ratings, random_state=42, test_size=0.1)"
      ],
      "execution_count": null,
      "outputs": []
    },
    {
      "cell_type": "code",
      "metadata": {
        "id": "9bm3pdywhaF4",
        "colab_type": "code",
        "colab": {
          "base_uri": "https://localhost:8080/",
          "height": 52
        },
        "outputId": "d5fdadd8-f2c1-4c45-f188-07c3613f31d7"
      },
      "source": [
        "print(train.shape)\n",
        "print(test.shape)"
      ],
      "execution_count": null,
      "outputs": [
        {
          "output_type": "stream",
          "text": [
            "(90777, 4)\n",
            "(10087, 4)\n"
          ],
          "name": "stdout"
        }
      ]
    },
    {
      "cell_type": "markdown",
      "metadata": {
        "id": "-Qid3ROtiScI",
        "colab_type": "text"
      },
      "source": [
        "### 가장 간단한 예측하기"
      ]
    },
    {
      "cell_type": "code",
      "metadata": {
        "id": "f8FfJzPjiUlp",
        "colab_type": "code",
        "colab": {
          "base_uri": "https://localhost:8080/",
          "height": 34
        },
        "outputId": "9afbc9e6-5522-4b55-c7b3-2768b00dc73a"
      },
      "source": [
        "test.shape"
      ],
      "execution_count": null,
      "outputs": [
        {
          "output_type": "execute_result",
          "data": {
            "text/plain": [
              "(10087, 4)"
            ]
          },
          "metadata": {
            "tags": []
          },
          "execution_count": 25
        }
      ]
    },
    {
      "cell_type": "markdown",
      "metadata": {
        "id": "uXf26vTkjYH1",
        "colab_type": "text"
      },
      "source": [
        "* 모두 0.5점으로 예측하기"
      ]
    },
    {
      "cell_type": "code",
      "metadata": {
        "id": "Qg-qAwWHisvW",
        "colab_type": "code",
        "colab": {}
      },
      "source": [
        "predictions = [0.5] * len(test)"
      ],
      "execution_count": null,
      "outputs": []
    },
    {
      "cell_type": "code",
      "metadata": {
        "id": "QREUdG1OiwgV",
        "colab_type": "code",
        "colab": {
          "base_uri": "https://localhost:8080/",
          "height": 34
        },
        "outputId": "40acb228-0a93-420f-a350-3107315d0038"
      },
      "source": [
        "# mean_squared_error(actual, predict)\n",
        "mse = mean_squared_error(test['rating'], predictions)\n",
        "rmse = np.sqrt(mse)\n",
        "rmse\n",
        "# 평균적으로 3점 정도 틀리다"
      ],
      "execution_count": null,
      "outputs": [
        {
          "output_type": "execute_result",
          "data": {
            "text/plain": [
              "3.1642403468037372"
            ]
          },
          "metadata": {
            "tags": []
          },
          "execution_count": 28
        }
      ]
    },
    {
      "cell_type": "markdown",
      "metadata": {
        "id": "sWDokoEKjg9v",
        "colab_type": "text"
      },
      "source": [
        "* 모두 5점으로 예측하기"
      ]
    },
    {
      "cell_type": "code",
      "metadata": {
        "id": "JV8kGMkUjkaB",
        "colab_type": "code",
        "colab": {
          "base_uri": "https://localhost:8080/",
          "height": 34
        },
        "outputId": "72ea1709-58d9-45ca-ef87-d588f3a06d4f"
      },
      "source": [
        "predictions = [5] * len(test)\n",
        "\n",
        "mse = mean_squared_error(test['rating'], predictions)\n",
        "rmse = np.sqrt(mse)\n",
        "rmse"
      ],
      "execution_count": null,
      "outputs": [
        {
          "output_type": "execute_result",
          "data": {
            "text/plain": [
              "1.8492963248209124"
            ]
          },
          "metadata": {
            "tags": []
          },
          "execution_count": 30
        }
      ]
    },
    {
      "cell_type": "markdown",
      "metadata": {
        "id": "ICZ7lsTrjso4",
        "colab_type": "text"
      },
      "source": [
        "* 데이터의 평균으로 예측하기\n",
        "\n",
        "  주의점 : train 데이터의 평균으로 test 데이터의 평균을 예측해야 함"
      ]
    },
    {
      "cell_type": "code",
      "metadata": {
        "id": "BB579TlXj8Ri",
        "colab_type": "code",
        "colab": {
          "base_uri": "https://localhost:8080/",
          "height": 34
        },
        "outputId": "d5045554-6ccb-49fe-e317-c7843450a990"
      },
      "source": [
        "predictions = [train['rating'].mean()] * len(test)\n",
        "\n",
        "mse = mean_squared_error(test['rating'], predictions)\n",
        "rmse = np.sqrt(mse)\n",
        "rmse"
      ],
      "execution_count": null,
      "outputs": [
        {
          "output_type": "execute_result",
          "data": {
            "text/plain": [
              "1.0571439079877267"
            ]
          },
          "metadata": {
            "tags": []
          },
          "execution_count": 34
        }
      ]
    },
    {
      "cell_type": "markdown",
      "metadata": {
        "id": "CO_wgGUrkEqY",
        "colab_type": "text"
      },
      "source": [
        "* 사용자 평점 기반 예측하기:\n",
        "  - 각 사용자의 평균 평점(train)으로 영화에 대한 평점을 예측(test)하세요.\n",
        "  - train에 해당 사용자에 대한 평점기록이 전혀 없다면, 어떻게 해야 할까요?\n",
        "  - (예: userId 1번의 train 데이터상 평균 평점을 4.33이라고 한다면, userId 1번의 test 데이터에 대한 모든 영화 평점을 4.33으로 한다.)\n",
        "  - 이 예측 방법은 어떤 가정을 가지고 있나요? 예측의 근거를 찾아보세요."
      ]
    },
    {
      "cell_type": "code",
      "metadata": {
        "id": "MJ66Mue3k5_Z",
        "colab_type": "code",
        "colab": {
          "base_uri": "https://localhost:8080/",
          "height": 195
        },
        "outputId": "b69fe5b9-23e4-4751-dfb4-0125b10b4e5e"
      },
      "source": [
        "users = train.groupby('userId')['rating'].mean().reset_index() # reset_index() : 표 형식으로 변경\n",
        "\n",
        "# rename : 컬럼명을 바꿔준다 ! rating -> predict (dictionary 형식)\n",
        "users = users.rename(columns={'rating' : 'predict'})\n",
        "users[:5]"
      ],
      "execution_count": null,
      "outputs": [
        {
          "output_type": "execute_result",
          "data": {
            "text/html": [
              "<div>\n",
              "<style scoped>\n",
              "    .dataframe tbody tr th:only-of-type {\n",
              "        vertical-align: middle;\n",
              "    }\n",
              "\n",
              "    .dataframe tbody tr th {\n",
              "        vertical-align: top;\n",
              "    }\n",
              "\n",
              "    .dataframe thead th {\n",
              "        text-align: right;\n",
              "    }\n",
              "</style>\n",
              "<table border=\"1\" class=\"dataframe\">\n",
              "  <thead>\n",
              "    <tr style=\"text-align: right;\">\n",
              "      <th></th>\n",
              "      <th>userId</th>\n",
              "      <th>predict</th>\n",
              "    </tr>\n",
              "  </thead>\n",
              "  <tbody>\n",
              "    <tr>\n",
              "      <th>0</th>\n",
              "      <td>1</td>\n",
              "      <td>4.333333</td>\n",
              "    </tr>\n",
              "    <tr>\n",
              "      <th>1</th>\n",
              "      <td>2</td>\n",
              "      <td>3.925926</td>\n",
              "    </tr>\n",
              "    <tr>\n",
              "      <th>2</th>\n",
              "      <td>3</td>\n",
              "      <td>2.529412</td>\n",
              "    </tr>\n",
              "    <tr>\n",
              "      <th>3</th>\n",
              "      <td>4</td>\n",
              "      <td>3.512690</td>\n",
              "    </tr>\n",
              "    <tr>\n",
              "      <th>4</th>\n",
              "      <td>5</td>\n",
              "      <td>3.627907</td>\n",
              "    </tr>\n",
              "  </tbody>\n",
              "</table>\n",
              "</div>"
            ],
            "text/plain": [
              "   userId   predict\n",
              "0       1  4.333333\n",
              "1       2  3.925926\n",
              "2       3  2.529412\n",
              "3       4  3.512690\n",
              "4       5  3.627907"
            ]
          },
          "metadata": {
            "tags": []
          },
          "execution_count": 13
        }
      ]
    },
    {
      "cell_type": "code",
      "metadata": {
        "id": "PvjGD8jIQbqh",
        "colab_type": "code",
        "colab": {
          "base_uri": "https://localhost:8080/",
          "height": 402
        },
        "outputId": "3e216209-0ce3-47a7-ebc0-966d8ef6030b"
      },
      "source": [
        "# 두 테이블을 붙임, how : 조인 방식(inner, left, right, outer), on : 기준\n",
        "predict_by_users = test.merge(users, how='left', on='userId')\n",
        "predict_by_users"
      ],
      "execution_count": null,
      "outputs": [
        {
          "output_type": "execute_result",
          "data": {
            "text/html": [
              "<div>\n",
              "<style scoped>\n",
              "    .dataframe tbody tr th:only-of-type {\n",
              "        vertical-align: middle;\n",
              "    }\n",
              "\n",
              "    .dataframe tbody tr th {\n",
              "        vertical-align: top;\n",
              "    }\n",
              "\n",
              "    .dataframe thead th {\n",
              "        text-align: right;\n",
              "    }\n",
              "</style>\n",
              "<table border=\"1\" class=\"dataframe\">\n",
              "  <thead>\n",
              "    <tr style=\"text-align: right;\">\n",
              "      <th></th>\n",
              "      <th>userId</th>\n",
              "      <th>movieId</th>\n",
              "      <th>rating</th>\n",
              "      <th>timestamp</th>\n",
              "      <th>predict</th>\n",
              "    </tr>\n",
              "  </thead>\n",
              "  <tbody>\n",
              "    <tr>\n",
              "      <th>0</th>\n",
              "      <td>606</td>\n",
              "      <td>1227</td>\n",
              "      <td>4.0</td>\n",
              "      <td>2007-02-11 23:32:45</td>\n",
              "      <td>3.664336</td>\n",
              "    </tr>\n",
              "    <tr>\n",
              "      <th>1</th>\n",
              "      <td>103</td>\n",
              "      <td>1348</td>\n",
              "      <td>4.0</td>\n",
              "      <td>2015-05-18 17:26:13</td>\n",
              "      <td>3.909357</td>\n",
              "    </tr>\n",
              "    <tr>\n",
              "      <th>2</th>\n",
              "      <td>155</td>\n",
              "      <td>432</td>\n",
              "      <td>4.0</td>\n",
              "      <td>2000-06-24 23:23:27</td>\n",
              "      <td>3.619048</td>\n",
              "    </tr>\n",
              "    <tr>\n",
              "      <th>3</th>\n",
              "      <td>199</td>\n",
              "      <td>44195</td>\n",
              "      <td>4.0</td>\n",
              "      <td>2009-12-21 02:46:19</td>\n",
              "      <td>3.365741</td>\n",
              "    </tr>\n",
              "    <tr>\n",
              "      <th>4</th>\n",
              "      <td>553</td>\n",
              "      <td>5989</td>\n",
              "      <td>5.0</td>\n",
              "      <td>2009-01-01 01:37:29</td>\n",
              "      <td>4.331169</td>\n",
              "    </tr>\n",
              "    <tr>\n",
              "      <th>...</th>\n",
              "      <td>...</td>\n",
              "      <td>...</td>\n",
              "      <td>...</td>\n",
              "      <td>...</td>\n",
              "      <td>...</td>\n",
              "    </tr>\n",
              "    <tr>\n",
              "      <th>10082</th>\n",
              "      <td>298</td>\n",
              "      <td>1587</td>\n",
              "      <td>3.0</td>\n",
              "      <td>2016-01-17 12:15:46</td>\n",
              "      <td>2.360915</td>\n",
              "    </tr>\n",
              "    <tr>\n",
              "      <th>10083</th>\n",
              "      <td>232</td>\n",
              "      <td>27816</td>\n",
              "      <td>2.5</td>\n",
              "      <td>2008-06-11 07:48:35</td>\n",
              "      <td>3.269330</td>\n",
              "    </tr>\n",
              "    <tr>\n",
              "      <th>10084</th>\n",
              "      <td>599</td>\n",
              "      <td>45208</td>\n",
              "      <td>1.5</td>\n",
              "      <td>2017-06-26 19:15:59</td>\n",
              "      <td>2.646030</td>\n",
              "    </tr>\n",
              "    <tr>\n",
              "      <th>10085</th>\n",
              "      <td>249</td>\n",
              "      <td>1432</td>\n",
              "      <td>3.5</td>\n",
              "      <td>2012-11-29 21:50:55</td>\n",
              "      <td>3.685638</td>\n",
              "    </tr>\n",
              "    <tr>\n",
              "      <th>10086</th>\n",
              "      <td>186</td>\n",
              "      <td>3740</td>\n",
              "      <td>3.0</td>\n",
              "      <td>2002-09-03 17:13:48</td>\n",
              "      <td>4.106796</td>\n",
              "    </tr>\n",
              "  </tbody>\n",
              "</table>\n",
              "<p>10087 rows × 5 columns</p>\n",
              "</div>"
            ],
            "text/plain": [
              "       userId  movieId  rating           timestamp   predict\n",
              "0         606     1227     4.0 2007-02-11 23:32:45  3.664336\n",
              "1         103     1348     4.0 2015-05-18 17:26:13  3.909357\n",
              "2         155      432     4.0 2000-06-24 23:23:27  3.619048\n",
              "3         199    44195     4.0 2009-12-21 02:46:19  3.365741\n",
              "4         553     5989     5.0 2009-01-01 01:37:29  4.331169\n",
              "...       ...      ...     ...                 ...       ...\n",
              "10082     298     1587     3.0 2016-01-17 12:15:46  2.360915\n",
              "10083     232    27816     2.5 2008-06-11 07:48:35  3.269330\n",
              "10084     599    45208     1.5 2017-06-26 19:15:59  2.646030\n",
              "10085     249     1432     3.5 2012-11-29 21:50:55  3.685638\n",
              "10086     186     3740     3.0 2002-09-03 17:13:48  4.106796\n",
              "\n",
              "[10087 rows x 5 columns]"
            ]
          },
          "metadata": {
            "tags": []
          },
          "execution_count": 15
        }
      ]
    },
    {
      "cell_type": "code",
      "metadata": {
        "id": "2piGY91CRM5l",
        "colab_type": "code",
        "colab": {
          "base_uri": "https://localhost:8080/",
          "height": 122
        },
        "outputId": "21134c45-a981-4651-e25d-bf1897570bd6"
      },
      "source": [
        "predict_by_users.isnull().sum() # null 개수"
      ],
      "execution_count": null,
      "outputs": [
        {
          "output_type": "execute_result",
          "data": {
            "text/plain": [
              "userId       0\n",
              "movieId      0\n",
              "rating       0\n",
              "timestamp    0\n",
              "predict      0\n",
              "dtype: int64"
            ]
          },
          "metadata": {
            "tags": []
          },
          "execution_count": 17
        }
      ]
    },
    {
      "cell_type": "code",
      "metadata": {
        "id": "kuUkkKwARqFF",
        "colab_type": "code",
        "colab": {
          "base_uri": "https://localhost:8080/",
          "height": 34
        },
        "outputId": "4629402a-c626-4984-eca7-766627b3b1b1"
      },
      "source": [
        "mse = mean_squared_error(predict_by_users['rating'], predict_by_users['predict'])\n",
        "rmse = np.sqrt(mse)\n",
        "rmse"
      ],
      "execution_count": null,
      "outputs": [
        {
          "output_type": "execute_result",
          "data": {
            "text/plain": [
              "0.9553815413196951"
            ]
          },
          "metadata": {
            "tags": []
          },
          "execution_count": 18
        }
      ]
    },
    {
      "cell_type": "markdown",
      "metadata": {
        "id": "xJ1a2oc2SO8g",
        "colab_type": "text"
      },
      "source": [
        "예측의 근거"
      ]
    },
    {
      "cell_type": "code",
      "metadata": {
        "id": "1hNFxrmSSXLh",
        "colab_type": "code",
        "colab": {
          "base_uri": "https://localhost:8080/",
          "height": 34
        },
        "outputId": "207caaa7-1aa8-4545-acb1-20acd48df9c3"
      },
      "source": [
        "train['rating'].std() # 전체의 표준편차\n",
        "# 모든 데이터의 평균에서 1점정도 떨어져있다."
      ],
      "execution_count": null,
      "outputs": [
        {
          "output_type": "execute_result",
          "data": {
            "text/plain": [
              "1.0408547822589538"
            ]
          },
          "metadata": {
            "tags": []
          },
          "execution_count": 20
        }
      ]
    },
    {
      "cell_type": "code",
      "metadata": {
        "id": "ztvdzYNeSxux",
        "colab_type": "code",
        "colab": {
          "base_uri": "https://localhost:8080/",
          "height": 34
        },
        "outputId": "30c1de16-85f3-414b-fa49-b2981dbdfab2"
      },
      "source": [
        "# 유저 별 표준편차\n",
        "train.groupby('userId')['rating'].std().mean()\n",
        "\n",
        "# 유저 별 표춘편차의 평균이 전체의 표준편차보다 작음 => 유저 별 표준편차를 사용하는 것이 더 효율적"
      ],
      "execution_count": null,
      "outputs": [
        {
          "output_type": "execute_result",
          "data": {
            "text/plain": [
              "0.925211328941015"
            ]
          },
          "metadata": {
            "tags": []
          },
          "execution_count": 22
        }
      ]
    },
    {
      "cell_type": "markdown",
      "metadata": {
        "id": "np0eSRwUlY50",
        "colab_type": "text"
      },
      "source": [
        "* 영화 평점 기반 예측하기:\n",
        "  - 각 영화의 평균 평점(train)으로 영화에 대한 평점을 예측(test)하세요.\n",
        "  - train에 해당 영화에 대한 평점기록이 전혀 없다면, 어떻게 해야 할까요?\n",
        "  - (예: movieId 1번의 train 데이터상 평균 평점을 4.5라고 한다면, movieId 1번의 test 데이터에 대한 모든 영화 평점을 4.5로 한다.)\n",
        "  - 이 예측 방법은 어떤 가정을 가지고 있나요? 예측의 근거를 찾아보세요."
      ]
    },
    {
      "cell_type": "code",
      "metadata": {
        "id": "FGBiTtRilqT8",
        "colab_type": "code",
        "colab": {
          "base_uri": "https://localhost:8080/",
          "height": 195
        },
        "outputId": "477256a4-7e88-42a9-951e-ea9ced71cf9d"
      },
      "source": [
        "movies = train.groupby('movieId')['rating'].mean().reset_index()\n",
        "movies = movies.rename(columns={'rating' : 'predict'})\n",
        "\n",
        "movies[:5]"
      ],
      "execution_count": null,
      "outputs": [
        {
          "output_type": "execute_result",
          "data": {
            "text/html": [
              "<div>\n",
              "<style scoped>\n",
              "    .dataframe tbody tr th:only-of-type {\n",
              "        vertical-align: middle;\n",
              "    }\n",
              "\n",
              "    .dataframe tbody tr th {\n",
              "        vertical-align: top;\n",
              "    }\n",
              "\n",
              "    .dataframe thead th {\n",
              "        text-align: right;\n",
              "    }\n",
              "</style>\n",
              "<table border=\"1\" class=\"dataframe\">\n",
              "  <thead>\n",
              "    <tr style=\"text-align: right;\">\n",
              "      <th></th>\n",
              "      <th>movieId</th>\n",
              "      <th>predict</th>\n",
              "    </tr>\n",
              "  </thead>\n",
              "  <tbody>\n",
              "    <tr>\n",
              "      <th>0</th>\n",
              "      <td>1</td>\n",
              "      <td>3.889474</td>\n",
              "    </tr>\n",
              "    <tr>\n",
              "      <th>1</th>\n",
              "      <td>2</td>\n",
              "      <td>3.410891</td>\n",
              "    </tr>\n",
              "    <tr>\n",
              "      <th>2</th>\n",
              "      <td>3</td>\n",
              "      <td>3.218750</td>\n",
              "    </tr>\n",
              "    <tr>\n",
              "      <th>3</th>\n",
              "      <td>4</td>\n",
              "      <td>2.300000</td>\n",
              "    </tr>\n",
              "    <tr>\n",
              "      <th>4</th>\n",
              "      <td>5</td>\n",
              "      <td>3.104651</td>\n",
              "    </tr>\n",
              "  </tbody>\n",
              "</table>\n",
              "</div>"
            ],
            "text/plain": [
              "   movieId   predict\n",
              "0        1  3.889474\n",
              "1        2  3.410891\n",
              "2        3  3.218750\n",
              "3        4  2.300000\n",
              "4        5  3.104651"
            ]
          },
          "metadata": {
            "tags": []
          },
          "execution_count": 36
        }
      ]
    },
    {
      "cell_type": "code",
      "metadata": {
        "id": "fVEE9K2FU29U",
        "colab_type": "code",
        "colab": {
          "base_uri": "https://localhost:8080/",
          "height": 195
        },
        "outputId": "6b65aaed-c287-45b5-cd88-778b1bea7c4e"
      },
      "source": [
        "predict_by_movie = test.merge(movies, how='left', on='movieId')\n",
        "predict_by_users[:5]"
      ],
      "execution_count": null,
      "outputs": [
        {
          "output_type": "execute_result",
          "data": {
            "text/html": [
              "<div>\n",
              "<style scoped>\n",
              "    .dataframe tbody tr th:only-of-type {\n",
              "        vertical-align: middle;\n",
              "    }\n",
              "\n",
              "    .dataframe tbody tr th {\n",
              "        vertical-align: top;\n",
              "    }\n",
              "\n",
              "    .dataframe thead th {\n",
              "        text-align: right;\n",
              "    }\n",
              "</style>\n",
              "<table border=\"1\" class=\"dataframe\">\n",
              "  <thead>\n",
              "    <tr style=\"text-align: right;\">\n",
              "      <th></th>\n",
              "      <th>userId</th>\n",
              "      <th>movieId</th>\n",
              "      <th>rating</th>\n",
              "      <th>timestamp</th>\n",
              "      <th>predict</th>\n",
              "    </tr>\n",
              "  </thead>\n",
              "  <tbody>\n",
              "    <tr>\n",
              "      <th>0</th>\n",
              "      <td>606</td>\n",
              "      <td>1227</td>\n",
              "      <td>4.0</td>\n",
              "      <td>2007-02-11 23:32:45</td>\n",
              "      <td>3.664336</td>\n",
              "    </tr>\n",
              "    <tr>\n",
              "      <th>1</th>\n",
              "      <td>103</td>\n",
              "      <td>1348</td>\n",
              "      <td>4.0</td>\n",
              "      <td>2015-05-18 17:26:13</td>\n",
              "      <td>3.909357</td>\n",
              "    </tr>\n",
              "    <tr>\n",
              "      <th>2</th>\n",
              "      <td>155</td>\n",
              "      <td>432</td>\n",
              "      <td>4.0</td>\n",
              "      <td>2000-06-24 23:23:27</td>\n",
              "      <td>3.619048</td>\n",
              "    </tr>\n",
              "    <tr>\n",
              "      <th>3</th>\n",
              "      <td>199</td>\n",
              "      <td>44195</td>\n",
              "      <td>4.0</td>\n",
              "      <td>2009-12-21 02:46:19</td>\n",
              "      <td>3.365741</td>\n",
              "    </tr>\n",
              "    <tr>\n",
              "      <th>4</th>\n",
              "      <td>553</td>\n",
              "      <td>5989</td>\n",
              "      <td>5.0</td>\n",
              "      <td>2009-01-01 01:37:29</td>\n",
              "      <td>4.331169</td>\n",
              "    </tr>\n",
              "  </tbody>\n",
              "</table>\n",
              "</div>"
            ],
            "text/plain": [
              "   userId  movieId  rating           timestamp   predict\n",
              "0     606     1227     4.0 2007-02-11 23:32:45  3.664336\n",
              "1     103     1348     4.0 2015-05-18 17:26:13  3.909357\n",
              "2     155      432     4.0 2000-06-24 23:23:27  3.619048\n",
              "3     199    44195     4.0 2009-12-21 02:46:19  3.365741\n",
              "4     553     5989     5.0 2009-01-01 01:37:29  4.331169"
            ]
          },
          "metadata": {
            "tags": []
          },
          "execution_count": 53
        }
      ]
    },
    {
      "cell_type": "code",
      "metadata": {
        "id": "v2h1DdIhWXOO",
        "colab_type": "code",
        "colab": {
          "base_uri": "https://localhost:8080/",
          "height": 122
        },
        "outputId": "ffbccd46-46bb-40e1-b5f1-bfb3d3d9c4c8"
      },
      "source": [
        "predict_by_movie.isnull().sum()"
      ],
      "execution_count": null,
      "outputs": [
        {
          "output_type": "execute_result",
          "data": {
            "text/plain": [
              "userId         0\n",
              "movieId        0\n",
              "rating         0\n",
              "timestamp      0\n",
              "predict      369\n",
              "dtype: int64"
            ]
          },
          "metadata": {
            "tags": []
          },
          "execution_count": 54
        }
      ]
    },
    {
      "cell_type": "code",
      "metadata": {
        "id": "65eWPdUTXZlh",
        "colab_type": "code",
        "colab": {}
      },
      "source": [
        "# NaN (Not a Number)\n",
        "# Pandas location\n",
        "# df.loc(index(filtering), column)\n",
        "# test에 데이터가 없는 경우 train의 평균을 넣어준다\n",
        "predict_by_movie.loc[predict_by_movie['predict'].isnull(), 'predict'] = train['rating'].mean()"
      ],
      "execution_count": null,
      "outputs": []
    },
    {
      "cell_type": "code",
      "metadata": {
        "id": "Svy31Q6SYOFP",
        "colab_type": "code",
        "colab": {
          "base_uri": "https://localhost:8080/",
          "height": 122
        },
        "outputId": "64a142ea-e8a3-4fa8-a978-f85add9d248c"
      },
      "source": [
        "predict_by_movie.isnull().sum()"
      ],
      "execution_count": null,
      "outputs": [
        {
          "output_type": "execute_result",
          "data": {
            "text/plain": [
              "userId       0\n",
              "movieId      0\n",
              "rating       0\n",
              "timestamp    0\n",
              "predict      0\n",
              "dtype: int64"
            ]
          },
          "metadata": {
            "tags": []
          },
          "execution_count": 56
        }
      ]
    },
    {
      "cell_type": "code",
      "metadata": {
        "id": "kZpuw67_V7FT",
        "colab_type": "code",
        "colab": {
          "base_uri": "https://localhost:8080/",
          "height": 34
        },
        "outputId": "b72c80bb-26ff-42ce-ae55-def6f08021db"
      },
      "source": [
        "mse = mean_squared_error(predict_by_movie['rating'], predict_by_movie['predict'])\n",
        "rmse = np.sqrt(mse)\n",
        "rmse"
      ],
      "execution_count": null,
      "outputs": [
        {
          "output_type": "execute_result",
          "data": {
            "text/plain": [
              "0.9887094919898134"
            ]
          },
          "metadata": {
            "tags": []
          },
          "execution_count": 57
        }
      ]
    }
  ]
}