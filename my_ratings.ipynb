{
  "nbformat": 4,
  "nbformat_minor": 0,
  "metadata": {
    "colab": {
      "name": "my-ratings.ipynb",
      "provenance": [],
      "collapsed_sections": [],
      "authorship_tag": "ABX9TyNaJRb3lrOn5w2dSxhnewwY",
      "include_colab_link": true
    },
    "kernelspec": {
      "name": "python3",
      "display_name": "Python 3"
    }
  },
  "cells": [
    {
      "cell_type": "markdown",
      "metadata": {
        "id": "view-in-github",
        "colab_type": "text"
      },
      "source": [
        "<a href=\"https://colab.research.google.com/github/JaebinChoi/Recommendation-System/blob/master/my_ratings.ipynb\" target=\"_parent\"><img src=\"https://colab.research.google.com/assets/colab-badge.svg\" alt=\"Open In Colab\"/></a>"
      ]
    },
    {
      "cell_type": "markdown",
      "metadata": {
        "id": "3guFRDW-5rF8",
        "colab_type": "text"
      },
      "source": [
        "### 구글 드라이브 내 파일 접근"
      ]
    },
    {
      "cell_type": "code",
      "metadata": {
        "id": "FDkD8jeW5yKn",
        "colab_type": "code",
        "colab": {
          "base_uri": "https://localhost:8080/",
          "height": 142
        },
        "outputId": "55e2454f-5ee0-4254-a675-ef1345a2433d"
      },
      "source": [
        "from google.colab import drive\n",
        "drive.mount('/gdrive')\n",
        "%cd /gdrive"
      ],
      "execution_count": null,
      "outputs": [
        {
          "output_type": "stream",
          "text": [
            "Go to this URL in a browser: https://accounts.google.com/o/oauth2/auth?client_id=947318989803-6bn6qk8qdgf4n4g3pfee6491hc0brc4i.apps.googleusercontent.com&redirect_uri=urn%3aietf%3awg%3aoauth%3a2.0%3aoob&scope=email%20https%3a%2f%2fwww.googleapis.com%2fauth%2fdocs.test%20https%3a%2f%2fwww.googleapis.com%2fauth%2fdrive%20https%3a%2f%2fwww.googleapis.com%2fauth%2fdrive.photos.readonly%20https%3a%2f%2fwww.googleapis.com%2fauth%2fpeopleapi.readonly&response_type=code\n",
            "\n",
            "Enter your authorization code:\n",
            "··········\n",
            "Mounted at /gdrive\n",
            "/gdrive\n"
          ],
          "name": "stdout"
        }
      ]
    },
    {
      "cell_type": "markdown",
      "metadata": {
        "id": "-dCLPW9j50Yu",
        "colab_type": "text"
      },
      "source": [
        "### 데이터 분석"
      ]
    },
    {
      "cell_type": "code",
      "metadata": {
        "id": "cwn5mmni50ws",
        "colab_type": "code",
        "colab": {}
      },
      "source": [
        "import pandas as pd;\n",
        "\n",
        "path = '/gdrive/My Drive/Recommend'"
      ],
      "execution_count": null,
      "outputs": []
    },
    {
      "cell_type": "code",
      "metadata": {
        "id": "9vnOSSym6DBc",
        "colab_type": "code",
        "colab": {
          "base_uri": "https://localhost:8080/",
          "height": 77
        },
        "outputId": "d14b904e-c8b5-4de4-b484-558bb87d9563"
      },
      "source": [
        "ratings = pd.read_csv('%s/data/ml-latest-small/ratings.csv' % path)\n",
        "ratings.sample()"
      ],
      "execution_count": null,
      "outputs": [
        {
          "output_type": "execute_result",
          "data": {
            "text/html": [
              "<div>\n",
              "<style scoped>\n",
              "    .dataframe tbody tr th:only-of-type {\n",
              "        vertical-align: middle;\n",
              "    }\n",
              "\n",
              "    .dataframe tbody tr th {\n",
              "        vertical-align: top;\n",
              "    }\n",
              "\n",
              "    .dataframe thead th {\n",
              "        text-align: right;\n",
              "    }\n",
              "</style>\n",
              "<table border=\"1\" class=\"dataframe\">\n",
              "  <thead>\n",
              "    <tr style=\"text-align: right;\">\n",
              "      <th></th>\n",
              "      <th>userId</th>\n",
              "      <th>movieId</th>\n",
              "      <th>rating</th>\n",
              "      <th>timestamp</th>\n",
              "    </tr>\n",
              "  </thead>\n",
              "  <tbody>\n",
              "    <tr>\n",
              "      <th>13730</th>\n",
              "      <td>89</td>\n",
              "      <td>34332</td>\n",
              "      <td>4.5</td>\n",
              "      <td>1520409451</td>\n",
              "    </tr>\n",
              "  </tbody>\n",
              "</table>\n",
              "</div>"
            ],
            "text/plain": [
              "       userId  movieId  rating   timestamp\n",
              "13730      89    34332     4.5  1520409451"
            ]
          },
          "metadata": {
            "tags": []
          },
          "execution_count": 17
        }
      ]
    },
    {
      "cell_type": "markdown",
      "metadata": {
        "id": "iq4kzLq46aSy",
        "colab_type": "text"
      },
      "source": [
        "### Timestamp 컬럼 처리"
      ]
    },
    {
      "cell_type": "code",
      "metadata": {
        "id": "mq7pMO7V6dVP",
        "colab_type": "code",
        "colab": {}
      },
      "source": [
        "from datetime import datetime"
      ],
      "execution_count": null,
      "outputs": []
    },
    {
      "cell_type": "code",
      "metadata": {
        "id": "KwzPDJNT600C",
        "colab_type": "code",
        "colab": {
          "base_uri": "https://localhost:8080/",
          "height": 34
        },
        "outputId": "173fb439-155c-4c52-954a-366db933d0de"
      },
      "source": [
        "datetime.fromtimestamp(978744464)\n",
        "# 년, 월, 일, 시, 분, 초"
      ],
      "execution_count": null,
      "outputs": [
        {
          "output_type": "execute_result",
          "data": {
            "text/plain": [
              "datetime.datetime(2001, 1, 6, 1, 27, 44)"
            ]
          },
          "metadata": {
            "tags": []
          },
          "execution_count": 14
        }
      ]
    },
    {
      "cell_type": "code",
      "metadata": {
        "id": "zrvlrkYb6kdD",
        "colab_type": "code",
        "colab": {
          "base_uri": "https://localhost:8080/",
          "height": 77
        },
        "outputId": "18636fb8-7c01-41ce-801f-b8926e44cce1"
      },
      "source": [
        "ratings['timestamp'] = ratings['timestamp'].apply(lambda x: datetime.fromtimestamp(x))\n",
        "ratings.sample()"
      ],
      "execution_count": null,
      "outputs": [
        {
          "output_type": "execute_result",
          "data": {
            "text/html": [
              "<div>\n",
              "<style scoped>\n",
              "    .dataframe tbody tr th:only-of-type {\n",
              "        vertical-align: middle;\n",
              "    }\n",
              "\n",
              "    .dataframe tbody tr th {\n",
              "        vertical-align: top;\n",
              "    }\n",
              "\n",
              "    .dataframe thead th {\n",
              "        text-align: right;\n",
              "    }\n",
              "</style>\n",
              "<table border=\"1\" class=\"dataframe\">\n",
              "  <thead>\n",
              "    <tr style=\"text-align: right;\">\n",
              "      <th></th>\n",
              "      <th>userId</th>\n",
              "      <th>movieId</th>\n",
              "      <th>rating</th>\n",
              "      <th>timestamp</th>\n",
              "    </tr>\n",
              "  </thead>\n",
              "  <tbody>\n",
              "    <tr>\n",
              "      <th>45021</th>\n",
              "      <td>298</td>\n",
              "      <td>33145</td>\n",
              "      <td>1.0</td>\n",
              "      <td>2016-01-16 15:57:05</td>\n",
              "    </tr>\n",
              "  </tbody>\n",
              "</table>\n",
              "</div>"
            ],
            "text/plain": [
              "       userId  movieId  rating           timestamp\n",
              "45021     298    33145     1.0 2016-01-16 15:57:05"
            ]
          },
          "metadata": {
            "tags": []
          },
          "execution_count": 19
        }
      ]
    },
    {
      "cell_type": "markdown",
      "metadata": {
        "id": "GbNsup8-_Xw2",
        "colab_type": "text"
      },
      "source": [
        "### 내 데이터 붙이기"
      ]
    },
    {
      "cell_type": "code",
      "metadata": {
        "id": "CGxxR-VE_Zpw",
        "colab_type": "code",
        "colab": {
          "base_uri": "https://localhost:8080/",
          "height": 77
        },
        "outputId": "75fa993c-ef3c-406e-c176-b54395efda07"
      },
      "source": [
        "myratings = pd.read_csv('%s/data/ml-latest-small/my-ratings.csv' % path)\n",
        "myratings.sample()"
      ],
      "execution_count": null,
      "outputs": [
        {
          "output_type": "execute_result",
          "data": {
            "text/html": [
              "<div>\n",
              "<style scoped>\n",
              "    .dataframe tbody tr th:only-of-type {\n",
              "        vertical-align: middle;\n",
              "    }\n",
              "\n",
              "    .dataframe tbody tr th {\n",
              "        vertical-align: top;\n",
              "    }\n",
              "\n",
              "    .dataframe thead th {\n",
              "        text-align: right;\n",
              "    }\n",
              "</style>\n",
              "<table border=\"1\" class=\"dataframe\">\n",
              "  <thead>\n",
              "    <tr style=\"text-align: right;\">\n",
              "      <th></th>\n",
              "      <th>userId</th>\n",
              "      <th>movieId</th>\n",
              "      <th>rating</th>\n",
              "      <th>timestamp</th>\n",
              "    </tr>\n",
              "  </thead>\n",
              "  <tbody>\n",
              "    <tr>\n",
              "      <th>2</th>\n",
              "      <td>1000</td>\n",
              "      <td>163134</td>\n",
              "      <td>4.5</td>\n",
              "      <td>2020-08-26 13:16:00</td>\n",
              "    </tr>\n",
              "  </tbody>\n",
              "</table>\n",
              "</div>"
            ],
            "text/plain": [
              "   userId  movieId  rating            timestamp\n",
              "2    1000   163134     4.5  2020-08-26 13:16:00"
            ]
          },
          "metadata": {
            "tags": []
          },
          "execution_count": 29
        }
      ]
    },
    {
      "cell_type": "code",
      "metadata": {
        "id": "Vn_vNhoQAMGJ",
        "colab_type": "code",
        "colab": {
          "base_uri": "https://localhost:8080/",
          "height": 77
        },
        "outputId": "8a2eb68a-24d3-4fca-b1f4-f301a322117e"
      },
      "source": [
        "# Object의 timestamp를 datetime으로\n",
        "myratings['timestamp'] = pd.to_datetime(myratings['timestamp'])\n",
        "myratings.sample()"
      ],
      "execution_count": null,
      "outputs": [
        {
          "output_type": "execute_result",
          "data": {
            "text/html": [
              "<div>\n",
              "<style scoped>\n",
              "    .dataframe tbody tr th:only-of-type {\n",
              "        vertical-align: middle;\n",
              "    }\n",
              "\n",
              "    .dataframe tbody tr th {\n",
              "        vertical-align: top;\n",
              "    }\n",
              "\n",
              "    .dataframe thead th {\n",
              "        text-align: right;\n",
              "    }\n",
              "</style>\n",
              "<table border=\"1\" class=\"dataframe\">\n",
              "  <thead>\n",
              "    <tr style=\"text-align: right;\">\n",
              "      <th></th>\n",
              "      <th>userId</th>\n",
              "      <th>movieId</th>\n",
              "      <th>rating</th>\n",
              "      <th>timestamp</th>\n",
              "    </tr>\n",
              "  </thead>\n",
              "  <tbody>\n",
              "    <tr>\n",
              "      <th>17</th>\n",
              "      <td>1000</td>\n",
              "      <td>188301</td>\n",
              "      <td>4.5</td>\n",
              "      <td>2020-08-26 13:16:00</td>\n",
              "    </tr>\n",
              "  </tbody>\n",
              "</table>\n",
              "</div>"
            ],
            "text/plain": [
              "    userId  movieId  rating           timestamp\n",
              "17    1000   188301     4.5 2020-08-26 13:16:00"
            ]
          },
          "metadata": {
            "tags": []
          },
          "execution_count": 30
        }
      ]
    },
    {
      "cell_type": "code",
      "metadata": {
        "id": "AwDq9UtwAlxl",
        "colab_type": "code",
        "colab": {
          "base_uri": "https://localhost:8080/",
          "height": 343
        },
        "outputId": "5827355a-fe21-4e08-b821-fc9d03b7c79a"
      },
      "source": [
        "# 데이터 이어붙이기\n",
        "ratings_concat = pd.concat([ratings, myratings])\n",
        "ratings_concat.tail(10)"
      ],
      "execution_count": null,
      "outputs": [
        {
          "output_type": "execute_result",
          "data": {
            "text/html": [
              "<div>\n",
              "<style scoped>\n",
              "    .dataframe tbody tr th:only-of-type {\n",
              "        vertical-align: middle;\n",
              "    }\n",
              "\n",
              "    .dataframe tbody tr th {\n",
              "        vertical-align: top;\n",
              "    }\n",
              "\n",
              "    .dataframe thead th {\n",
              "        text-align: right;\n",
              "    }\n",
              "</style>\n",
              "<table border=\"1\" class=\"dataframe\">\n",
              "  <thead>\n",
              "    <tr style=\"text-align: right;\">\n",
              "      <th></th>\n",
              "      <th>userId</th>\n",
              "      <th>movieId</th>\n",
              "      <th>rating</th>\n",
              "      <th>timestamp</th>\n",
              "    </tr>\n",
              "  </thead>\n",
              "  <tbody>\n",
              "    <tr>\n",
              "      <th>18</th>\n",
              "      <td>1000</td>\n",
              "      <td>89745</td>\n",
              "      <td>4.3</td>\n",
              "      <td>2020-08-26 13:16:00</td>\n",
              "    </tr>\n",
              "    <tr>\n",
              "      <th>19</th>\n",
              "      <td>1000</td>\n",
              "      <td>122892</td>\n",
              "      <td>4.5</td>\n",
              "      <td>2020-08-26 13:16:00</td>\n",
              "    </tr>\n",
              "    <tr>\n",
              "      <th>20</th>\n",
              "      <td>1000</td>\n",
              "      <td>122912</td>\n",
              "      <td>4.5</td>\n",
              "      <td>2020-08-26 13:16:00</td>\n",
              "    </tr>\n",
              "    <tr>\n",
              "      <th>21</th>\n",
              "      <td>1000</td>\n",
              "      <td>180985</td>\n",
              "      <td>5.0</td>\n",
              "      <td>2020-08-26 13:16:00</td>\n",
              "    </tr>\n",
              "    <tr>\n",
              "      <th>22</th>\n",
              "      <td>1000</td>\n",
              "      <td>109487</td>\n",
              "      <td>4.0</td>\n",
              "      <td>2020-08-26 13:16:00</td>\n",
              "    </tr>\n",
              "    <tr>\n",
              "      <th>23</th>\n",
              "      <td>1000</td>\n",
              "      <td>2</td>\n",
              "      <td>4.0</td>\n",
              "      <td>2020-08-26 13:16:00</td>\n",
              "    </tr>\n",
              "    <tr>\n",
              "      <th>24</th>\n",
              "      <td>1000</td>\n",
              "      <td>122920</td>\n",
              "      <td>4.0</td>\n",
              "      <td>2020-08-26 13:16:00</td>\n",
              "    </tr>\n",
              "    <tr>\n",
              "      <th>25</th>\n",
              "      <td>1000</td>\n",
              "      <td>110102</td>\n",
              "      <td>3.7</td>\n",
              "      <td>2020-08-26 13:16:00</td>\n",
              "    </tr>\n",
              "    <tr>\n",
              "      <th>26</th>\n",
              "      <td>1000</td>\n",
              "      <td>159858</td>\n",
              "      <td>4.0</td>\n",
              "      <td>2020-08-26 13:16:00</td>\n",
              "    </tr>\n",
              "    <tr>\n",
              "      <th>27</th>\n",
              "      <td>1000</td>\n",
              "      <td>1721</td>\n",
              "      <td>4.0</td>\n",
              "      <td>2020-08-26 13:16:00</td>\n",
              "    </tr>\n",
              "  </tbody>\n",
              "</table>\n",
              "</div>"
            ],
            "text/plain": [
              "    userId  movieId  rating           timestamp\n",
              "18    1000    89745     4.3 2020-08-26 13:16:00\n",
              "19    1000   122892     4.5 2020-08-26 13:16:00\n",
              "20    1000   122912     4.5 2020-08-26 13:16:00\n",
              "21    1000   180985     5.0 2020-08-26 13:16:00\n",
              "22    1000   109487     4.0 2020-08-26 13:16:00\n",
              "23    1000        2     4.0 2020-08-26 13:16:00\n",
              "24    1000   122920     4.0 2020-08-26 13:16:00\n",
              "25    1000   110102     3.7 2020-08-26 13:16:00\n",
              "26    1000   159858     4.0 2020-08-26 13:16:00\n",
              "27    1000     1721     4.0 2020-08-26 13:16:00"
            ]
          },
          "metadata": {
            "tags": []
          },
          "execution_count": 34
        }
      ]
    },
    {
      "cell_type": "code",
      "metadata": {
        "id": "VAeLlaxoBBPp",
        "colab_type": "code",
        "colab": {}
      },
      "source": [
        "# 데이터 저장\n",
        "ratings_concat.to_pickle('%s/data/ml-latest-small/ratings_updated.p' % path)"
      ],
      "execution_count": null,
      "outputs": []
    }
  ]
}