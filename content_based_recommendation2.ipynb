{
  "nbformat": 4,
  "nbformat_minor": 0,
  "metadata": {
    "colab": {
      "name": "content-based-recommendation2.ipynb",
      "provenance": [],
      "collapsed_sections": [],
      "authorship_tag": "ABX9TyPGIfvpZMNskd3lFaAjaFgr",
      "include_colab_link": true
    },
    "kernelspec": {
      "name": "python3",
      "display_name": "Python 3"
    }
  },
  "cells": [
    {
      "cell_type": "markdown",
      "metadata": {
        "id": "view-in-github",
        "colab_type": "text"
      },
      "source": [
        "<a href=\"https://colab.research.google.com/github/JaebinChoi/Recommendation-System/blob/master/content_based_recommendation2.ipynb\" target=\"_parent\"><img src=\"https://colab.research.google.com/assets/colab-badge.svg\" alt=\"Open In Colab\"/></a>"
      ]
    },
    {
      "cell_type": "code",
      "metadata": {
        "id": "lwr8uBkBxba4",
        "colab_type": "code",
        "colab": {
          "base_uri": "https://localhost:8080/",
          "height": 142
        },
        "outputId": "28cc28eb-e002-4e92-f4a0-d59c223734c4"
      },
      "source": [
        "from google.colab import drive\n",
        "drive.mount('/gdrive')\n",
        "%cd /gdrive"
      ],
      "execution_count": 1,
      "outputs": [
        {
          "output_type": "stream",
          "text": [
            "Go to this URL in a browser: https://accounts.google.com/o/oauth2/auth?client_id=947318989803-6bn6qk8qdgf4n4g3pfee6491hc0brc4i.apps.googleusercontent.com&redirect_uri=urn%3aietf%3awg%3aoauth%3a2.0%3aoob&scope=email%20https%3a%2f%2fwww.googleapis.com%2fauth%2fdocs.test%20https%3a%2f%2fwww.googleapis.com%2fauth%2fdrive%20https%3a%2f%2fwww.googleapis.com%2fauth%2fdrive.photos.readonly%20https%3a%2f%2fwww.googleapis.com%2fauth%2fpeopleapi.readonly&response_type=code\n",
            "\n",
            "Enter your authorization code:\n",
            "4/3wELrh5CKheto0X6wRJMryXrwckwGyF_TZlYFH7ZwyC5bNBZ5nTUrZM\n",
            "Mounted at /gdrive\n",
            "/gdrive\n"
          ],
          "name": "stdout"
        }
      ]
    },
    {
      "cell_type": "code",
      "metadata": {
        "id": "SstJBzh3SaI4",
        "colab_type": "code",
        "colab": {}
      },
      "source": [
        "import pandas as pd\n",
        "import numpy as np\n",
        "import warnings\n",
        "warnings.filterwarnings('ignore')\n",
        "\n",
        "path = '/gdrive/My Drive/Recommend'"
      ],
      "execution_count": 2,
      "outputs": []
    },
    {
      "cell_type": "markdown",
      "metadata": {
        "id": "idiiV7H9S-4E",
        "colab_type": "text"
      },
      "source": [
        "### Read Data"
      ]
    },
    {
      "cell_type": "code",
      "metadata": {
        "id": "jNwH-sExTAtH",
        "colab_type": "code",
        "colab": {}
      },
      "source": [
        "ratings =  pd.read_pickle('%s/data/ml-latest-small/ratings_updated.p' % path)\n",
        "genres = pd.read_pickle('%s/data/ml-latest-small/genres.p' % path)"
      ],
      "execution_count": 3,
      "outputs": []
    },
    {
      "cell_type": "code",
      "metadata": {
        "id": "ObELpXLcUEtr",
        "colab_type": "code",
        "colab": {
          "base_uri": "https://localhost:8080/",
          "height": 77
        },
        "outputId": "cd11a6d8-da76-4701-d241-fc38d16c68f1"
      },
      "source": [
        "ratings.sample()"
      ],
      "execution_count": 4,
      "outputs": [
        {
          "output_type": "execute_result",
          "data": {
            "text/html": [
              "<div>\n",
              "<style scoped>\n",
              "    .dataframe tbody tr th:only-of-type {\n",
              "        vertical-align: middle;\n",
              "    }\n",
              "\n",
              "    .dataframe tbody tr th {\n",
              "        vertical-align: top;\n",
              "    }\n",
              "\n",
              "    .dataframe thead th {\n",
              "        text-align: right;\n",
              "    }\n",
              "</style>\n",
              "<table border=\"1\" class=\"dataframe\">\n",
              "  <thead>\n",
              "    <tr style=\"text-align: right;\">\n",
              "      <th></th>\n",
              "      <th>userId</th>\n",
              "      <th>movieId</th>\n",
              "      <th>rating</th>\n",
              "      <th>timestamp</th>\n",
              "    </tr>\n",
              "  </thead>\n",
              "  <tbody>\n",
              "    <tr>\n",
              "      <th>20524</th>\n",
              "      <td>135</td>\n",
              "      <td>2571</td>\n",
              "      <td>5.0</td>\n",
              "      <td>2001-12-30 05:45:44</td>\n",
              "    </tr>\n",
              "  </tbody>\n",
              "</table>\n",
              "</div>"
            ],
            "text/plain": [
              "       userId  movieId  rating           timestamp\n",
              "20524     135     2571     5.0 2001-12-30 05:45:44"
            ]
          },
          "metadata": {
            "tags": []
          },
          "execution_count": 4
        }
      ]
    },
    {
      "cell_type": "code",
      "metadata": {
        "id": "_pphicBBUGni",
        "colab_type": "code",
        "colab": {
          "base_uri": "https://localhost:8080/",
          "height": 140
        },
        "outputId": "0ee07202-a6be-4929-d980-b501fc848dfe"
      },
      "source": [
        "genres.sample()"
      ],
      "execution_count": 5,
      "outputs": [
        {
          "output_type": "execute_result",
          "data": {
            "text/html": [
              "<div>\n",
              "<style scoped>\n",
              "    .dataframe tbody tr th:only-of-type {\n",
              "        vertical-align: middle;\n",
              "    }\n",
              "\n",
              "    .dataframe tbody tr th {\n",
              "        vertical-align: top;\n",
              "    }\n",
              "\n",
              "    .dataframe thead th {\n",
              "        text-align: right;\n",
              "    }\n",
              "</style>\n",
              "<table border=\"1\" class=\"dataframe\">\n",
              "  <thead>\n",
              "    <tr style=\"text-align: right;\">\n",
              "      <th></th>\n",
              "      <th>(no genres listed)</th>\n",
              "      <th>Action</th>\n",
              "      <th>Adventure</th>\n",
              "      <th>Animation</th>\n",
              "      <th>Children</th>\n",
              "      <th>Comedy</th>\n",
              "      <th>Crime</th>\n",
              "      <th>Documentary</th>\n",
              "      <th>Drama</th>\n",
              "      <th>Fantasy</th>\n",
              "      <th>Film-Noir</th>\n",
              "      <th>Horror</th>\n",
              "      <th>IMAX</th>\n",
              "      <th>Musical</th>\n",
              "      <th>Mystery</th>\n",
              "      <th>Romance</th>\n",
              "      <th>Sci-Fi</th>\n",
              "      <th>Thriller</th>\n",
              "      <th>War</th>\n",
              "      <th>Western</th>\n",
              "    </tr>\n",
              "    <tr>\n",
              "      <th>movieId</th>\n",
              "      <th></th>\n",
              "      <th></th>\n",
              "      <th></th>\n",
              "      <th></th>\n",
              "      <th></th>\n",
              "      <th></th>\n",
              "      <th></th>\n",
              "      <th></th>\n",
              "      <th></th>\n",
              "      <th></th>\n",
              "      <th></th>\n",
              "      <th></th>\n",
              "      <th></th>\n",
              "      <th></th>\n",
              "      <th></th>\n",
              "      <th></th>\n",
              "      <th></th>\n",
              "      <th></th>\n",
              "      <th></th>\n",
              "      <th></th>\n",
              "    </tr>\n",
              "  </thead>\n",
              "  <tbody>\n",
              "    <tr>\n",
              "      <th>65225</th>\n",
              "      <td>0</td>\n",
              "      <td>0</td>\n",
              "      <td>0</td>\n",
              "      <td>0</td>\n",
              "      <td>0</td>\n",
              "      <td>0</td>\n",
              "      <td>0</td>\n",
              "      <td>1</td>\n",
              "      <td>0</td>\n",
              "      <td>0</td>\n",
              "      <td>0</td>\n",
              "      <td>0</td>\n",
              "      <td>0</td>\n",
              "      <td>0</td>\n",
              "      <td>0</td>\n",
              "      <td>0</td>\n",
              "      <td>0</td>\n",
              "      <td>0</td>\n",
              "      <td>0</td>\n",
              "      <td>0</td>\n",
              "    </tr>\n",
              "  </tbody>\n",
              "</table>\n",
              "</div>"
            ],
            "text/plain": [
              "         (no genres listed)  Action  Adventure  ...  Thriller  War  Western\n",
              "movieId                                         ...                        \n",
              "65225                     0       0          0  ...         0    0        0\n",
              "\n",
              "[1 rows x 20 columns]"
            ]
          },
          "metadata": {
            "tags": []
          },
          "execution_count": 5
        }
      ]
    },
    {
      "cell_type": "markdown",
      "metadata": {
        "id": "Hy41klWMTSbE",
        "colab_type": "text"
      },
      "source": [
        "### User Profile (Sample Data)"
      ]
    },
    {
      "cell_type": "code",
      "metadata": {
        "id": "Y7vo2twbTT7o",
        "colab_type": "code",
        "colab": {
          "base_uri": "https://localhost:8080/",
          "height": 77
        },
        "outputId": "ea707f4e-a52c-4b35-be21-71c3836a7da8"
      },
      "source": [
        "user414 = ratings[ratings['userId'] == 414]\n",
        "user414.sample()"
      ],
      "execution_count": 6,
      "outputs": [
        {
          "output_type": "execute_result",
          "data": {
            "text/html": [
              "<div>\n",
              "<style scoped>\n",
              "    .dataframe tbody tr th:only-of-type {\n",
              "        vertical-align: middle;\n",
              "    }\n",
              "\n",
              "    .dataframe tbody tr th {\n",
              "        vertical-align: top;\n",
              "    }\n",
              "\n",
              "    .dataframe thead th {\n",
              "        text-align: right;\n",
              "    }\n",
              "</style>\n",
              "<table border=\"1\" class=\"dataframe\">\n",
              "  <thead>\n",
              "    <tr style=\"text-align: right;\">\n",
              "      <th></th>\n",
              "      <th>userId</th>\n",
              "      <th>movieId</th>\n",
              "      <th>rating</th>\n",
              "      <th>timestamp</th>\n",
              "    </tr>\n",
              "  </thead>\n",
              "  <tbody>\n",
              "    <tr>\n",
              "      <th>63429</th>\n",
              "      <td>414</td>\n",
              "      <td>3499</td>\n",
              "      <td>4.0</td>\n",
              "      <td>2000-06-30 13:29:55</td>\n",
              "    </tr>\n",
              "  </tbody>\n",
              "</table>\n",
              "</div>"
            ],
            "text/plain": [
              "       userId  movieId  rating           timestamp\n",
              "63429     414     3499     4.0 2000-06-30 13:29:55"
            ]
          },
          "metadata": {
            "tags": []
          },
          "execution_count": 6
        }
      ]
    },
    {
      "cell_type": "code",
      "metadata": {
        "id": "_ERqVP6-TsX6",
        "colab_type": "code",
        "colab": {
          "base_uri": "https://localhost:8080/",
          "height": 34
        },
        "outputId": "4241bbd7-5e9c-4d73-8d58-621e019211f5"
      },
      "source": [
        "# 영화 관람을 엄청 많이 함\n",
        "len(user414)"
      ],
      "execution_count": 7,
      "outputs": [
        {
          "output_type": "execute_result",
          "data": {
            "text/plain": [
              "2698"
            ]
          },
          "metadata": {
            "tags": []
          },
          "execution_count": 7
        }
      ]
    },
    {
      "cell_type": "code",
      "metadata": {
        "id": "LcimqqmWT2ta",
        "colab_type": "code",
        "colab": {}
      },
      "source": [
        "# user414의 movieId를 기준으로, genres의 index를 기준으로 조인\n",
        "user414 = user414.merge(genres, left_on='movieId', right_index=True)"
      ],
      "execution_count": 8,
      "outputs": []
    },
    {
      "cell_type": "code",
      "metadata": {
        "id": "3WTyRcfhYzPc",
        "colab_type": "code",
        "colab": {
          "base_uri": "https://localhost:8080/",
          "height": 164
        },
        "outputId": "c90b7578-94c9-42c3-cbdf-ebb3d335a06e"
      },
      "source": [
        "user414.sample()"
      ],
      "execution_count": 9,
      "outputs": [
        {
          "output_type": "execute_result",
          "data": {
            "text/html": [
              "<div>\n",
              "<style scoped>\n",
              "    .dataframe tbody tr th:only-of-type {\n",
              "        vertical-align: middle;\n",
              "    }\n",
              "\n",
              "    .dataframe tbody tr th {\n",
              "        vertical-align: top;\n",
              "    }\n",
              "\n",
              "    .dataframe thead th {\n",
              "        text-align: right;\n",
              "    }\n",
              "</style>\n",
              "<table border=\"1\" class=\"dataframe\">\n",
              "  <thead>\n",
              "    <tr style=\"text-align: right;\">\n",
              "      <th></th>\n",
              "      <th>userId</th>\n",
              "      <th>movieId</th>\n",
              "      <th>rating</th>\n",
              "      <th>timestamp</th>\n",
              "      <th>(no genres listed)</th>\n",
              "      <th>Action</th>\n",
              "      <th>Adventure</th>\n",
              "      <th>Animation</th>\n",
              "      <th>Children</th>\n",
              "      <th>Comedy</th>\n",
              "      <th>Crime</th>\n",
              "      <th>Documentary</th>\n",
              "      <th>Drama</th>\n",
              "      <th>Fantasy</th>\n",
              "      <th>Film-Noir</th>\n",
              "      <th>Horror</th>\n",
              "      <th>IMAX</th>\n",
              "      <th>Musical</th>\n",
              "      <th>Mystery</th>\n",
              "      <th>Romance</th>\n",
              "      <th>Sci-Fi</th>\n",
              "      <th>Thriller</th>\n",
              "      <th>War</th>\n",
              "      <th>Western</th>\n",
              "    </tr>\n",
              "  </thead>\n",
              "  <tbody>\n",
              "    <tr>\n",
              "      <th>63049</th>\n",
              "      <td>414</td>\n",
              "      <td>2188</td>\n",
              "      <td>2.0</td>\n",
              "      <td>2000-06-19 17:41:09</td>\n",
              "      <td>0</td>\n",
              "      <td>0</td>\n",
              "      <td>0</td>\n",
              "      <td>0</td>\n",
              "      <td>0</td>\n",
              "      <td>0</td>\n",
              "      <td>0</td>\n",
              "      <td>0</td>\n",
              "      <td>1</td>\n",
              "      <td>0</td>\n",
              "      <td>0</td>\n",
              "      <td>0</td>\n",
              "      <td>0</td>\n",
              "      <td>0</td>\n",
              "      <td>0</td>\n",
              "      <td>0</td>\n",
              "      <td>0</td>\n",
              "      <td>0</td>\n",
              "      <td>0</td>\n",
              "      <td>0</td>\n",
              "    </tr>\n",
              "  </tbody>\n",
              "</table>\n",
              "</div>"
            ],
            "text/plain": [
              "       userId  movieId  rating  ... Thriller  War  Western\n",
              "63049     414     2188     2.0  ...        0    0        0\n",
              "\n",
              "[1 rows x 24 columns]"
            ]
          },
          "metadata": {
            "tags": []
          },
          "execution_count": 9
        }
      ]
    },
    {
      "cell_type": "markdown",
      "metadata": {
        "id": "wbdNY3SjUpF6",
        "colab_type": "text"
      },
      "source": [
        "### train_test_split"
      ]
    },
    {
      "cell_type": "code",
      "metadata": {
        "id": "GXO1tnooUryK",
        "colab_type": "code",
        "colab": {}
      },
      "source": [
        "from sklearn.model_selection import train_test_split"
      ],
      "execution_count": 10,
      "outputs": []
    },
    {
      "cell_type": "code",
      "metadata": {
        "id": "X8Cl1i83U0w2",
        "colab_type": "code",
        "colab": {}
      },
      "source": [
        "x_train, x_test, y_train, y_test = train_test_split(user414[genres.columns], user414['rating'], random_state=42, test_size=42)"
      ],
      "execution_count": 11,
      "outputs": []
    },
    {
      "cell_type": "code",
      "metadata": {
        "id": "u-X1vN-MaJrA",
        "colab_type": "code",
        "colab": {
          "base_uri": "https://localhost:8080/",
          "height": 87
        },
        "outputId": "bc86a1cb-ba18-4d23-af26-28456a9271dd"
      },
      "source": [
        "# feature, x : y를 예측하기 위해 필요한 정보들\n",
        "# label, y : 정답\n",
        "\n",
        "print(x_train.shape)\n",
        "print(x_test.shape)\n",
        "\n",
        "print(y_train.shape)\n",
        "print(y_test.shape)"
      ],
      "execution_count": 12,
      "outputs": [
        {
          "output_type": "stream",
          "text": [
            "(2656, 20)\n",
            "(42, 20)\n",
            "(2656,)\n",
            "(42,)\n"
          ],
          "name": "stdout"
        }
      ]
    },
    {
      "cell_type": "code",
      "metadata": {
        "id": "5OooLP5Raa35",
        "colab_type": "code",
        "colab": {
          "base_uri": "https://localhost:8080/",
          "height": 110
        },
        "outputId": "74bbc8c2-106f-40c6-c9c3-968e82706bd1"
      },
      "source": [
        "x_train.sample()"
      ],
      "execution_count": 13,
      "outputs": [
        {
          "output_type": "execute_result",
          "data": {
            "text/html": [
              "<div>\n",
              "<style scoped>\n",
              "    .dataframe tbody tr th:only-of-type {\n",
              "        vertical-align: middle;\n",
              "    }\n",
              "\n",
              "    .dataframe tbody tr th {\n",
              "        vertical-align: top;\n",
              "    }\n",
              "\n",
              "    .dataframe thead th {\n",
              "        text-align: right;\n",
              "    }\n",
              "</style>\n",
              "<table border=\"1\" class=\"dataframe\">\n",
              "  <thead>\n",
              "    <tr style=\"text-align: right;\">\n",
              "      <th></th>\n",
              "      <th>(no genres listed)</th>\n",
              "      <th>Action</th>\n",
              "      <th>Adventure</th>\n",
              "      <th>Animation</th>\n",
              "      <th>Children</th>\n",
              "      <th>Comedy</th>\n",
              "      <th>Crime</th>\n",
              "      <th>Documentary</th>\n",
              "      <th>Drama</th>\n",
              "      <th>Fantasy</th>\n",
              "      <th>Film-Noir</th>\n",
              "      <th>Horror</th>\n",
              "      <th>IMAX</th>\n",
              "      <th>Musical</th>\n",
              "      <th>Mystery</th>\n",
              "      <th>Romance</th>\n",
              "      <th>Sci-Fi</th>\n",
              "      <th>Thriller</th>\n",
              "      <th>War</th>\n",
              "      <th>Western</th>\n",
              "    </tr>\n",
              "  </thead>\n",
              "  <tbody>\n",
              "    <tr>\n",
              "      <th>62689</th>\n",
              "      <td>0</td>\n",
              "      <td>0</td>\n",
              "      <td>0</td>\n",
              "      <td>0</td>\n",
              "      <td>0</td>\n",
              "      <td>1</td>\n",
              "      <td>0</td>\n",
              "      <td>0</td>\n",
              "      <td>0</td>\n",
              "      <td>0</td>\n",
              "      <td>0</td>\n",
              "      <td>0</td>\n",
              "      <td>0</td>\n",
              "      <td>0</td>\n",
              "      <td>0</td>\n",
              "      <td>0</td>\n",
              "      <td>0</td>\n",
              "      <td>0</td>\n",
              "      <td>0</td>\n",
              "      <td>0</td>\n",
              "    </tr>\n",
              "  </tbody>\n",
              "</table>\n",
              "</div>"
            ],
            "text/plain": [
              "       (no genres listed)  Action  Adventure  ...  Thriller  War  Western\n",
              "62689                   0       0          0  ...         0    0        0\n",
              "\n",
              "[1 rows x 20 columns]"
            ]
          },
          "metadata": {
            "tags": []
          },
          "execution_count": 13
        }
      ]
    },
    {
      "cell_type": "code",
      "metadata": {
        "id": "vpmKvDPVaev0",
        "colab_type": "code",
        "colab": {
          "base_uri": "https://localhost:8080/",
          "height": 52
        },
        "outputId": "ffa77e07-57f8-45fb-bf5c-4755e1ad748d"
      },
      "source": [
        "y_train.sample()"
      ],
      "execution_count": 14,
      "outputs": [
        {
          "output_type": "execute_result",
          "data": {
            "text/plain": [
              "64665    4.0\n",
              "Name: rating, dtype: float64"
            ]
          },
          "metadata": {
            "tags": []
          },
          "execution_count": 14
        }
      ]
    },
    {
      "cell_type": "markdown",
      "metadata": {
        "id": "rOPM1r6Xakxf",
        "colab_type": "text"
      },
      "source": [
        "### Linear Regression"
      ]
    },
    {
      "cell_type": "code",
      "metadata": {
        "id": "4YQPkNBTaoYA",
        "colab_type": "code",
        "colab": {}
      },
      "source": [
        "from sklearn.linear_model import LinearRegression"
      ],
      "execution_count": 15,
      "outputs": []
    },
    {
      "cell_type": "code",
      "metadata": {
        "id": "qS6lKDDeauxk",
        "colab_type": "code",
        "colab": {}
      },
      "source": [
        "reg = LinearRegression()"
      ],
      "execution_count": 16,
      "outputs": []
    },
    {
      "cell_type": "code",
      "metadata": {
        "id": "2O_JANhXaxi5",
        "colab_type": "code",
        "colab": {
          "base_uri": "https://localhost:8080/",
          "height": 34
        },
        "outputId": "61ea5de1-3cff-42e0-90e9-80e28c44c05e"
      },
      "source": [
        "reg.fit(x_train, y_train)"
      ],
      "execution_count": 17,
      "outputs": [
        {
          "output_type": "execute_result",
          "data": {
            "text/plain": [
              "LinearRegression(copy_X=True, fit_intercept=True, n_jobs=None, normalize=False)"
            ]
          },
          "metadata": {
            "tags": []
          },
          "execution_count": 17
        }
      ]
    },
    {
      "cell_type": "code",
      "metadata": {
        "id": "WpIVr1W1bMlk",
        "colab_type": "code",
        "colab": {
          "base_uri": "https://localhost:8080/",
          "height": 87
        },
        "outputId": "0ba46476-2e81-4073-c9ad-17fb41384857"
      },
      "source": [
        "reg.coef_"
      ],
      "execution_count": 18,
      "outputs": [
        {
          "output_type": "execute_result",
          "data": {
            "text/plain": [
              "array([ 1.04160282, -0.16765085,  0.11266998,  0.6470244 , -0.28636112,\n",
              "       -0.07175291,  0.1755062 ,  0.42369745,  0.32260747,  0.06520916,\n",
              "        0.30005944, -0.16750376,  0.34178126,  0.01701818,  0.20658032,\n",
              "       -0.0161549 ,  0.17045366, -0.13324596,  0.42657798,  0.29761732])"
            ]
          },
          "metadata": {
            "tags": []
          },
          "execution_count": 18
        }
      ]
    },
    {
      "cell_type": "code",
      "metadata": {
        "id": "Ovno-9aVbXNg",
        "colab_type": "code",
        "colab": {
          "base_uri": "https://localhost:8080/",
          "height": 34
        },
        "outputId": "1cc8cab9-99a0-41b3-ff26-c2bb059b57f4"
      },
      "source": [
        "reg.intercept_"
      ],
      "execution_count": 19,
      "outputs": [
        {
          "output_type": "execute_result",
          "data": {
            "text/plain": [
              "3.2083971762035204"
            ]
          },
          "metadata": {
            "tags": []
          },
          "execution_count": 19
        }
      ]
    },
    {
      "cell_type": "code",
      "metadata": {
        "id": "3uuQr03ocAid",
        "colab_type": "code",
        "colab": {
          "base_uri": "https://localhost:8080/",
          "height": 34
        },
        "outputId": "a0736b5d-0c00-419c-8152-1ff51da1e8c4"
      },
      "source": [
        "# baseline score + Action 장르에 대한 coefficient + Adventure 장르에 대한 coefficient\n",
        "# Action | Adventure\n",
        "reg.intercept_ + reg.coef_[1] + reg.coef_[2]"
      ],
      "execution_count": 20,
      "outputs": [
        {
          "output_type": "execute_result",
          "data": {
            "text/plain": [
              "3.1534163068395666"
            ]
          },
          "metadata": {
            "tags": []
          },
          "execution_count": 20
        }
      ]
    },
    {
      "cell_type": "code",
      "metadata": {
        "id": "IQq-9kmebe-j",
        "colab_type": "code",
        "colab": {
          "base_uri": "https://localhost:8080/",
          "height": 369
        },
        "outputId": "21737142-9e44-4e83-eaba-c8c5f95bb8e9"
      },
      "source": [
        "list(zip(x_train.columns, reg.coef_))"
      ],
      "execution_count": 21,
      "outputs": [
        {
          "output_type": "execute_result",
          "data": {
            "text/plain": [
              "[('(no genres listed)', 1.0416028237964734),\n",
              " ('Action', -0.16765084808775782),\n",
              " ('Adventure', 0.11266997872380434),\n",
              " ('Animation', 0.647024400468364),\n",
              " ('Children', -0.28636112002225117),\n",
              " ('Comedy', -0.07175290614434772),\n",
              " ('Crime', 0.17550620046289703),\n",
              " ('Documentary', 0.4236974512206153),\n",
              " ('Drama', 0.3226074723097408),\n",
              " ('Fantasy', 0.06520916285712705),\n",
              " ('Film-Noir', 0.30005944367866516),\n",
              " ('Horror', -0.16750376258635977),\n",
              " ('IMAX', 0.34178126430889216),\n",
              " ('Musical', 0.01701817648759844),\n",
              " ('Mystery', 0.20658032435950804),\n",
              " ('Romance', -0.016154901772133756),\n",
              " ('Sci-Fi', 0.17045366312859975),\n",
              " ('Thriller', -0.13324596244305084),\n",
              " ('War', 0.42657798213011566),\n",
              " ('Western', 0.29761731969867855)]"
            ]
          },
          "metadata": {
            "tags": []
          },
          "execution_count": 21
        }
      ]
    },
    {
      "cell_type": "code",
      "metadata": {
        "id": "mJ_4lErgcz-2",
        "colab_type": "code",
        "colab": {}
      },
      "source": [
        "%matplotlib inline"
      ],
      "execution_count": 22,
      "outputs": []
    },
    {
      "cell_type": "code",
      "metadata": {
        "id": "K_AC9aSvc175",
        "colab_type": "code",
        "colab": {
          "base_uri": "https://localhost:8080/",
          "height": 282
        },
        "outputId": "c21dd481-9f9c-4621-e0bd-7c5be654b78e"
      },
      "source": [
        "# user414['rating'].hist()\n",
        "\n",
        "# Children 장르의 평점 히스토그램\n",
        "user414.loc[user414['Children'] == 1, 'rating'].hist()"
      ],
      "execution_count": 23,
      "outputs": [
        {
          "output_type": "execute_result",
          "data": {
            "text/plain": [
              "<matplotlib.axes._subplots.AxesSubplot at 0x7ff3a0b4a978>"
            ]
          },
          "metadata": {
            "tags": []
          },
          "execution_count": 23
        },
        {
          "output_type": "display_data",
          "data": {
            "image/png": "[encoded data removed]",
            "text/plain": [
              "<Figure size 432x288 with 1 Axes>"
            ]
          },
          "metadata": {
            "tags": [],
            "needs_background": "light"
          }
        }
      ]
    },
    {
      "cell_type": "code",
      "metadata": {
        "id": "WI6PCChidkHZ",
        "colab_type": "code",
        "colab": {}
      },
      "source": [
        "# 전체 장르에 대한 예측값\n",
        "predict = reg.predict(x_test)"
      ],
      "execution_count": 24,
      "outputs": []
    },
    {
      "cell_type": "code",
      "metadata": {
        "id": "rHZ2jNxSdpsi",
        "colab_type": "code",
        "colab": {}
      },
      "source": [
        "from sklearn.metrics import mean_squared_error"
      ],
      "execution_count": 25,
      "outputs": []
    },
    {
      "cell_type": "code",
      "metadata": {
        "id": "iD8wIBpheFUv",
        "colab_type": "code",
        "colab": {
          "base_uri": "https://localhost:8080/",
          "height": 34
        },
        "outputId": "b0aaf559-9e15-4093-ee6d-1fcf1a89afe3"
      },
      "source": [
        "mse = mean_squared_error(y_test, predict)\n",
        "rmse = np.sqrt(mse)\n",
        "rmse"
      ],
      "execution_count": 26,
      "outputs": [
        {
          "output_type": "execute_result",
          "data": {
            "text/plain": [
              "0.8233059773739537"
            ]
          },
          "metadata": {
            "tags": []
          },
          "execution_count": 26
        }
      ]
    },
    {
      "cell_type": "markdown",
      "metadata": {
        "id": "AwoZyLgeeLr_",
        "colab_type": "text"
      },
      "source": [
        "## 전체 데이터로 확장"
      ]
    },
    {
      "cell_type": "code",
      "metadata": {
        "id": "hrnzUm6keRxs",
        "colab_type": "code",
        "colab": {
          "base_uri": "https://localhost:8080/",
          "height": 164
        },
        "outputId": "81cd30da-954d-4d9a-ebde-1cb37d6b4836"
      },
      "source": [
        "ratings = ratings.merge(genres, left_on='movieId', right_index=True)\n",
        "ratings.sample()"
      ],
      "execution_count": 28,
      "outputs": [
        {
          "output_type": "execute_result",
          "data": {
            "text/html": [
              "<div>\n",
              "<style scoped>\n",
              "    .dataframe tbody tr th:only-of-type {\n",
              "        vertical-align: middle;\n",
              "    }\n",
              "\n",
              "    .dataframe tbody tr th {\n",
              "        vertical-align: top;\n",
              "    }\n",
              "\n",
              "    .dataframe thead th {\n",
              "        text-align: right;\n",
              "    }\n",
              "</style>\n",
              "<table border=\"1\" class=\"dataframe\">\n",
              "  <thead>\n",
              "    <tr style=\"text-align: right;\">\n",
              "      <th></th>\n",
              "      <th>userId</th>\n",
              "      <th>movieId</th>\n",
              "      <th>rating</th>\n",
              "      <th>timestamp</th>\n",
              "      <th>(no genres listed)</th>\n",
              "      <th>Action</th>\n",
              "      <th>Adventure</th>\n",
              "      <th>Animation</th>\n",
              "      <th>Children</th>\n",
              "      <th>Comedy</th>\n",
              "      <th>Crime</th>\n",
              "      <th>Documentary</th>\n",
              "      <th>Drama</th>\n",
              "      <th>Fantasy</th>\n",
              "      <th>Film-Noir</th>\n",
              "      <th>Horror</th>\n",
              "      <th>IMAX</th>\n",
              "      <th>Musical</th>\n",
              "      <th>Mystery</th>\n",
              "      <th>Romance</th>\n",
              "      <th>Sci-Fi</th>\n",
              "      <th>Thriller</th>\n",
              "      <th>War</th>\n",
              "      <th>Western</th>\n",
              "    </tr>\n",
              "  </thead>\n",
              "  <tbody>\n",
              "    <tr>\n",
              "      <th>75885</th>\n",
              "      <td>477</td>\n",
              "      <td>8622</td>\n",
              "      <td>4.0</td>\n",
              "      <td>2008-01-21 18:31:09</td>\n",
              "      <td>0</td>\n",
              "      <td>0</td>\n",
              "      <td>0</td>\n",
              "      <td>0</td>\n",
              "      <td>0</td>\n",
              "      <td>0</td>\n",
              "      <td>0</td>\n",
              "      <td>1</td>\n",
              "      <td>0</td>\n",
              "      <td>0</td>\n",
              "      <td>0</td>\n",
              "      <td>0</td>\n",
              "      <td>0</td>\n",
              "      <td>0</td>\n",
              "      <td>0</td>\n",
              "      <td>0</td>\n",
              "      <td>0</td>\n",
              "      <td>0</td>\n",
              "      <td>0</td>\n",
              "      <td>0</td>\n",
              "    </tr>\n",
              "  </tbody>\n",
              "</table>\n",
              "</div>"
            ],
            "text/plain": [
              "       userId  movieId  rating  ... Thriller  War  Western\n",
              "75885     477     8622     4.0  ...        0    0        0\n",
              "\n",
              "[1 rows x 24 columns]"
            ]
          },
          "metadata": {
            "tags": []
          },
          "execution_count": 28
        }
      ]
    },
    {
      "cell_type": "code",
      "metadata": {
        "id": "G_Jxm_xWehb1",
        "colab_type": "code",
        "colab": {}
      },
      "source": [
        "train, test = train_test_split(ratings, test_size=0.1, random_state=42)"
      ],
      "execution_count": 29,
      "outputs": []
    },
    {
      "cell_type": "code",
      "metadata": {
        "id": "GRzrLo_kem_L",
        "colab_type": "code",
        "colab": {}
      },
      "source": [
        "user_profile_list = []\n",
        "\n",
        "for userId in train['userId'].unique(): # 존재하는 User Id를 반복\n",
        "  user = train[train['userId'] == userId]\n",
        "  X_train = user[genres.columns] # feature, x\n",
        "  Y_train = user['rating'] # label, y\n",
        "\n",
        "  reg = LinearRegression()\n",
        "  reg.fit(X_train, Y_train)\n",
        "\n",
        "  # * : 리스트를 flatten하게\n",
        "  # intercept : 유저가 장르가 하나도 없는 영화를 봤을 때 줄 예상 평점\n",
        "    user_profile_list.append([reg.intercept_, *reg.coef_])ㅊ\n",
        "  user_profile_list.append([reg.intercept_, *reg.coef_])"
      ],
      "execution_count": 35,
      "outputs": []
    },
    {
      "cell_type": "code",
      "metadata": {
        "id": "am7v0M3yfxta",
        "colab_type": "code",
        "colab": {}
      },
      "source": [
        "user_profile = pd.DataFrame(user_profile_list, index=train['userId'].unique(), columns=['intercept', *genres.columns])\n",
        "pd.set_option('float_format', '{:f}'.format)"
      ],
      "execution_count": 39,
      "outputs": []
    },
    {
      "cell_type": "code",
      "metadata": {
        "id": "ntjun5oOgHZx",
        "colab_type": "code",
        "colab": {
          "base_uri": "https://localhost:8080/",
          "height": 455
        },
        "outputId": "a2e9f3af-da7d-4cf0-ee41-bea53d8ee2f3"
      },
      "source": [
        "user_profile"
      ],
      "execution_count": 41,
      "outputs": [
        {
          "output_type": "execute_result",
          "data": {
            "text/html": [
              "<div>\n",
              "<style scoped>\n",
              "    .dataframe tbody tr th:only-of-type {\n",
              "        vertical-align: middle;\n",
              "    }\n",
              "\n",
              "    .dataframe tbody tr th {\n",
              "        vertical-align: top;\n",
              "    }\n",
              "\n",
              "    .dataframe thead th {\n",
              "        text-align: right;\n",
              "    }\n",
              "</style>\n",
              "<table border=\"1\" class=\"dataframe\">\n",
              "  <thead>\n",
              "    <tr style=\"text-align: right;\">\n",
              "      <th></th>\n",
              "      <th>intercept</th>\n",
              "      <th>(no genres listed)</th>\n",
              "      <th>Action</th>\n",
              "      <th>Adventure</th>\n",
              "      <th>Animation</th>\n",
              "      <th>Children</th>\n",
              "      <th>Comedy</th>\n",
              "      <th>Crime</th>\n",
              "      <th>Documentary</th>\n",
              "      <th>Drama</th>\n",
              "      <th>Fantasy</th>\n",
              "      <th>Film-Noir</th>\n",
              "      <th>Horror</th>\n",
              "      <th>IMAX</th>\n",
              "      <th>Musical</th>\n",
              "      <th>Mystery</th>\n",
              "      <th>Romance</th>\n",
              "      <th>Sci-Fi</th>\n",
              "      <th>Thriller</th>\n",
              "      <th>War</th>\n",
              "      <th>Western</th>\n",
              "    </tr>\n",
              "  </thead>\n",
              "  <tbody>\n",
              "    <tr>\n",
              "      <th>555</th>\n",
              "      <td>3.332390</td>\n",
              "      <td>0.000000</td>\n",
              "      <td>-0.160754</td>\n",
              "      <td>0.080151</td>\n",
              "      <td>0.200893</td>\n",
              "      <td>0.304954</td>\n",
              "      <td>0.041948</td>\n",
              "      <td>0.199470</td>\n",
              "      <td>-0.000000</td>\n",
              "      <td>0.242010</td>\n",
              "      <td>0.042381</td>\n",
              "      <td>-0.347746</td>\n",
              "      <td>-0.523428</td>\n",
              "      <td>0.345450</td>\n",
              "      <td>-0.182105</td>\n",
              "      <td>0.205982</td>\n",
              "      <td>0.105405</td>\n",
              "      <td>0.014659</td>\n",
              "      <td>0.142177</td>\n",
              "      <td>0.273489</td>\n",
              "      <td>-0.217147</td>\n",
              "    </tr>\n",
              "    <tr>\n",
              "      <th>352</th>\n",
              "      <td>3.994093</td>\n",
              "      <td>0.000000</td>\n",
              "      <td>-0.500851</td>\n",
              "      <td>0.193432</td>\n",
              "      <td>0.747634</td>\n",
              "      <td>-1.087313</td>\n",
              "      <td>-0.411920</td>\n",
              "      <td>0.111596</td>\n",
              "      <td>-0.000000</td>\n",
              "      <td>0.004380</td>\n",
              "      <td>-0.103565</td>\n",
              "      <td>-0.913539</td>\n",
              "      <td>0.227009</td>\n",
              "      <td>0.158518</td>\n",
              "      <td>-1.069132</td>\n",
              "      <td>0.338183</td>\n",
              "      <td>-0.253827</td>\n",
              "      <td>0.035034</td>\n",
              "      <td>-0.206804</td>\n",
              "      <td>1.036792</td>\n",
              "      <td>0.175006</td>\n",
              "    </tr>\n",
              "    <tr>\n",
              "      <th>448</th>\n",
              "      <td>2.593686</td>\n",
              "      <td>-1.343686</td>\n",
              "      <td>-0.140043</td>\n",
              "      <td>0.251257</td>\n",
              "      <td>0.424714</td>\n",
              "      <td>-0.054141</td>\n",
              "      <td>0.201930</td>\n",
              "      <td>0.155109</td>\n",
              "      <td>1.258631</td>\n",
              "      <td>0.263548</td>\n",
              "      <td>-0.063345</td>\n",
              "      <td>0.798158</td>\n",
              "      <td>-0.483713</td>\n",
              "      <td>-0.135406</td>\n",
              "      <td>0.406815</td>\n",
              "      <td>0.071140</td>\n",
              "      <td>-0.125329</td>\n",
              "      <td>-0.031419</td>\n",
              "      <td>0.007405</td>\n",
              "      <td>0.325445</td>\n",
              "      <td>0.677385</td>\n",
              "    </tr>\n",
              "    <tr>\n",
              "      <th>594</th>\n",
              "      <td>3.798197</td>\n",
              "      <td>0.000000</td>\n",
              "      <td>0.838477</td>\n",
              "      <td>-0.150309</td>\n",
              "      <td>0.449669</td>\n",
              "      <td>0.237607</td>\n",
              "      <td>-0.197516</td>\n",
              "      <td>0.174569</td>\n",
              "      <td>0.701803</td>\n",
              "      <td>-0.251599</td>\n",
              "      <td>0.028075</td>\n",
              "      <td>0.000000</td>\n",
              "      <td>-1.965431</td>\n",
              "      <td>0.228982</td>\n",
              "      <td>-0.110104</td>\n",
              "      <td>-0.455544</td>\n",
              "      <td>0.930986</td>\n",
              "      <td>0.393527</td>\n",
              "      <td>-0.193798</td>\n",
              "      <td>-0.326242</td>\n",
              "      <td>0.549628</td>\n",
              "    </tr>\n",
              "    <tr>\n",
              "      <th>500</th>\n",
              "      <td>2.536337</td>\n",
              "      <td>0.000000</td>\n",
              "      <td>0.665123</td>\n",
              "      <td>-0.062306</td>\n",
              "      <td>0.460453</td>\n",
              "      <td>0.094984</td>\n",
              "      <td>0.355523</td>\n",
              "      <td>-0.049842</td>\n",
              "      <td>-0.000000</td>\n",
              "      <td>0.095288</td>\n",
              "      <td>0.226253</td>\n",
              "      <td>0.000000</td>\n",
              "      <td>-0.340806</td>\n",
              "      <td>0.196528</td>\n",
              "      <td>0.039346</td>\n",
              "      <td>1.462196</td>\n",
              "      <td>0.085466</td>\n",
              "      <td>0.602231</td>\n",
              "      <td>0.092420</td>\n",
              "      <td>0.927386</td>\n",
              "      <td>0.000000</td>\n",
              "    </tr>\n",
              "    <tr>\n",
              "      <th>...</th>\n",
              "      <td>...</td>\n",
              "      <td>...</td>\n",
              "      <td>...</td>\n",
              "      <td>...</td>\n",
              "      <td>...</td>\n",
              "      <td>...</td>\n",
              "      <td>...</td>\n",
              "      <td>...</td>\n",
              "      <td>...</td>\n",
              "      <td>...</td>\n",
              "      <td>...</td>\n",
              "      <td>...</td>\n",
              "      <td>...</td>\n",
              "      <td>...</td>\n",
              "      <td>...</td>\n",
              "      <td>...</td>\n",
              "      <td>...</td>\n",
              "      <td>...</td>\n",
              "      <td>...</td>\n",
              "      <td>...</td>\n",
              "      <td>...</td>\n",
              "    </tr>\n",
              "    <tr>\n",
              "      <th>53</th>\n",
              "      <td>5.000000</td>\n",
              "      <td>0.000000</td>\n",
              "      <td>0.000000</td>\n",
              "      <td>0.000000</td>\n",
              "      <td>0.000000</td>\n",
              "      <td>0.000000</td>\n",
              "      <td>0.000000</td>\n",
              "      <td>0.000000</td>\n",
              "      <td>0.000000</td>\n",
              "      <td>0.000000</td>\n",
              "      <td>0.000000</td>\n",
              "      <td>0.000000</td>\n",
              "      <td>0.000000</td>\n",
              "      <td>0.000000</td>\n",
              "      <td>0.000000</td>\n",
              "      <td>0.000000</td>\n",
              "      <td>0.000000</td>\n",
              "      <td>0.000000</td>\n",
              "      <td>0.000000</td>\n",
              "      <td>0.000000</td>\n",
              "      <td>0.000000</td>\n",
              "    </tr>\n",
              "    <tr>\n",
              "      <th>544</th>\n",
              "      <td>4.130435</td>\n",
              "      <td>0.000000</td>\n",
              "      <td>1.478261</td>\n",
              "      <td>-0.000000</td>\n",
              "      <td>-0.000000</td>\n",
              "      <td>-0.000000</td>\n",
              "      <td>0.391304</td>\n",
              "      <td>-2.086957</td>\n",
              "      <td>0.869565</td>\n",
              "      <td>0.478261</td>\n",
              "      <td>0.000000</td>\n",
              "      <td>0.000000</td>\n",
              "      <td>0.869565</td>\n",
              "      <td>0.000000</td>\n",
              "      <td>0.000000</td>\n",
              "      <td>-0.521739</td>\n",
              "      <td>-0.043478</td>\n",
              "      <td>0.478261</td>\n",
              "      <td>-1.086957</td>\n",
              "      <td>0.000000</td>\n",
              "      <td>0.000000</td>\n",
              "    </tr>\n",
              "    <tr>\n",
              "      <th>519</th>\n",
              "      <td>3.795026</td>\n",
              "      <td>0.000000</td>\n",
              "      <td>-0.251394</td>\n",
              "      <td>0.152123</td>\n",
              "      <td>0.000000</td>\n",
              "      <td>0.000000</td>\n",
              "      <td>0.070137</td>\n",
              "      <td>0.513520</td>\n",
              "      <td>0.000000</td>\n",
              "      <td>0.586699</td>\n",
              "      <td>-0.000000</td>\n",
              "      <td>0.000000</td>\n",
              "      <td>-0.000000</td>\n",
              "      <td>0.152123</td>\n",
              "      <td>0.000000</td>\n",
              "      <td>0.050392</td>\n",
              "      <td>-0.063489</td>\n",
              "      <td>0.152123</td>\n",
              "      <td>0.305757</td>\n",
              "      <td>0.611628</td>\n",
              "      <td>0.000000</td>\n",
              "    </tr>\n",
              "    <tr>\n",
              "      <th>311</th>\n",
              "      <td>4.829617</td>\n",
              "      <td>0.000000</td>\n",
              "      <td>-1.415954</td>\n",
              "      <td>0.050970</td>\n",
              "      <td>0.462762</td>\n",
              "      <td>0.462762</td>\n",
              "      <td>-2.806110</td>\n",
              "      <td>-0.000000</td>\n",
              "      <td>-0.000000</td>\n",
              "      <td>-0.395860</td>\n",
              "      <td>-0.558422</td>\n",
              "      <td>-0.000000</td>\n",
              "      <td>-0.829617</td>\n",
              "      <td>0.500000</td>\n",
              "      <td>-2.433757</td>\n",
              "      <td>0.358951</td>\n",
              "      <td>-0.704822</td>\n",
              "      <td>-0.411792</td>\n",
              "      <td>-0.052841</td>\n",
              "      <td>0.107078</td>\n",
              "      <td>-1.173710</td>\n",
              "    </tr>\n",
              "    <tr>\n",
              "      <th>207</th>\n",
              "      <td>2.920000</td>\n",
              "      <td>-0.000000</td>\n",
              "      <td>-2.700000</td>\n",
              "      <td>4.460000</td>\n",
              "      <td>0.000000</td>\n",
              "      <td>-7.880000</td>\n",
              "      <td>-1.040000</td>\n",
              "      <td>-0.420000</td>\n",
              "      <td>0.000000</td>\n",
              "      <td>1.000000</td>\n",
              "      <td>-1.940000</td>\n",
              "      <td>0.000000</td>\n",
              "      <td>1.900000</td>\n",
              "      <td>0.000000</td>\n",
              "      <td>0.000000</td>\n",
              "      <td>0.000000</td>\n",
              "      <td>1.080000</td>\n",
              "      <td>-3.640000</td>\n",
              "      <td>-0.300000</td>\n",
              "      <td>0.000000</td>\n",
              "      <td>-0.420000</td>\n",
              "    </tr>\n",
              "  </tbody>\n",
              "</table>\n",
              "<p>611 rows × 21 columns</p>\n",
              "</div>"
            ],
            "text/plain": [
              "     intercept  (no genres listed)    Action  ...  Thriller       War   Western\n",
              "555   3.332390            0.000000 -0.160754  ...  0.142177  0.273489 -0.217147\n",
              "352   3.994093            0.000000 -0.500851  ... -0.206804  1.036792  0.175006\n",
              "448   2.593686           -1.343686 -0.140043  ...  0.007405  0.325445  0.677385\n",
              "594   3.798197            0.000000  0.838477  ... -0.193798 -0.326242  0.549628\n",
              "500   2.536337            0.000000  0.665123  ...  0.092420  0.927386  0.000000\n",
              "..         ...                 ...       ...  ...       ...       ...       ...\n",
              "53    5.000000            0.000000  0.000000  ...  0.000000  0.000000  0.000000\n",
              "544   4.130435            0.000000  1.478261  ... -1.086957  0.000000  0.000000\n",
              "519   3.795026            0.000000 -0.251394  ...  0.305757  0.611628  0.000000\n",
              "311   4.829617            0.000000 -1.415954  ... -0.052841  0.107078 -1.173710\n",
              "207   2.920000           -0.000000 -2.700000  ... -0.300000  0.000000 -0.420000\n",
              "\n",
              "[611 rows x 21 columns]"
            ]
          },
          "metadata": {
            "tags": []
          },
          "execution_count": 41
        }
      ]
    }
  ]
}