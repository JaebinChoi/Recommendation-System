{
  "nbformat": 4,
  "nbformat_minor": 0,
  "metadata": {
    "colab": {
      "name": "pandas-basic.ipynb",
      "provenance": [],
      "collapsed_sections": [],
      "authorship_tag": "ABX9TyPJtcsH5qpxFQwVY7zCbjfl",
      "include_colab_link": true
    },
    "kernelspec": {
      "name": "python3",
      "display_name": "Python 3"
    }
  },
  "cells": [
    {
      "cell_type": "markdown",
      "metadata": {
        "id": "view-in-github",
        "colab_type": "text"
      },
      "source": [
        "<a href=\"https://colab.research.google.com/github/JaebinChoi/Recommendation-System/blob/master/pandas_basic.ipynb\" target=\"_parent\"><img src=\"https://colab.research.google.com/assets/colab-badge.svg\" alt=\"Open In Colab\"/></a>"
      ]
    },
    {
      "cell_type": "markdown",
      "metadata": {
        "id": "ekBVKXRRvU4f",
        "colab_type": "text"
      },
      "source": [
        "### Python Lambda"
      ]
    },
    {
      "cell_type": "code",
      "metadata": {
        "id": "OO7TZR0gvgsw",
        "colab_type": "code",
        "colab": {
          "base_uri": "https://localhost:8080/",
          "height": 34
        },
        "outputId": "247c1f5c-cea9-44c3-a1b7-ce3bb7ecf738"
      },
      "source": [
        "# def == define, definition\n",
        "def add_1(x):\n",
        "  return x+1\n",
        "\n",
        "add_1(4)"
      ],
      "execution_count": null,
      "outputs": [
        {
          "output_type": "execute_result",
          "data": {
            "text/plain": [
              "5"
            ]
          },
          "metadata": {
            "tags": []
          },
          "execution_count": 6
        }
      ]
    },
    {
      "cell_type": "code",
      "metadata": {
        "id": "FXXxrDJPvxZ1",
        "colab_type": "code",
        "colab": {
          "base_uri": "https://localhost:8080/",
          "height": 34
        },
        "outputId": "e226d9ba-1d82-4186-ad32-da3412142ef5"
      },
      "source": [
        "# lambda\n",
        "add_1 = lambda x: x + 1\n",
        "add_1(3)"
      ],
      "execution_count": null,
      "outputs": [
        {
          "output_type": "execute_result",
          "data": {
            "text/plain": [
              "4"
            ]
          },
          "metadata": {
            "tags": []
          },
          "execution_count": 7
        }
      ]
    },
    {
      "cell_type": "markdown",
      "metadata": {
        "id": "LLm_Cnrvwa5H",
        "colab_type": "text"
      },
      "source": [
        "### 구글 드라이브 내 파일 접근"
      ]
    },
    {
      "cell_type": "code",
      "metadata": {
        "id": "n6Ssoe3cwfJz",
        "colab_type": "code",
        "colab": {
          "base_uri": "https://localhost:8080/",
          "height": 142
        },
        "outputId": "17aaf77e-2987-4384-a259-9f1d091e8c09"
      },
      "source": [
        "from google.colab import drive\n",
        "drive.mount('/gdrive')\n",
        "%cd /gdrive"
      ],
      "execution_count": null,
      "outputs": [
        {
          "output_type": "stream",
          "text": [
            "Go to this URL in a browser: https://accounts.google.com/o/oauth2/auth?client_id=947318989803-6bn6qk8qdgf4n4g3pfee6491hc0brc4i.apps.googleusercontent.com&redirect_uri=urn%3aietf%3awg%3aoauth%3a2.0%3aoob&scope=email%20https%3a%2f%2fwww.googleapis.com%2fauth%2fdocs.test%20https%3a%2f%2fwww.googleapis.com%2fauth%2fdrive%20https%3a%2f%2fwww.googleapis.com%2fauth%2fdrive.photos.readonly%20https%3a%2f%2fwww.googleapis.com%2fauth%2fpeopleapi.readonly&response_type=code\n",
            "\n",
            "Enter your authorization code:\n",
            "··········\n",
            "Mounted at /gdrive\n",
            "/gdrive\n"
          ],
          "name": "stdout"
        }
      ]
    },
    {
      "cell_type": "markdown",
      "metadata": {
        "id": "9LhBwveVwC7q",
        "colab_type": "text"
      },
      "source": [
        "### 정규표현식을 사용하지 않고, 개봉연도 추출하기"
      ]
    },
    {
      "cell_type": "code",
      "metadata": {
        "id": "RiksxmQnwHfq",
        "colab_type": "code",
        "colab": {}
      },
      "source": [
        "import pandas as pd\n",
        "\n",
        "path = '/gdrive/My Drive/Recommend'"
      ],
      "execution_count": null,
      "outputs": []
    },
    {
      "cell_type": "code",
      "metadata": {
        "id": "UgP_E72bw3jc",
        "colab_type": "code",
        "colab": {
          "base_uri": "https://localhost:8080/",
          "height": 106
        },
        "outputId": "e00b0b0d-681b-4a16-d9dc-ae6de6e3eb04"
      },
      "source": [
        "movies = pd.read_csv('%s/data/ml-latest-small/movies.csv' % path, index_col='movieId')\n",
        "movies.sample()"
      ],
      "execution_count": null,
      "outputs": [
        {
          "output_type": "execute_result",
          "data": {
            "text/html": [
              "<div>\n",
              "<style scoped>\n",
              "    .dataframe tbody tr th:only-of-type {\n",
              "        vertical-align: middle;\n",
              "    }\n",
              "\n",
              "    .dataframe tbody tr th {\n",
              "        vertical-align: top;\n",
              "    }\n",
              "\n",
              "    .dataframe thead th {\n",
              "        text-align: right;\n",
              "    }\n",
              "</style>\n",
              "<table border=\"1\" class=\"dataframe\">\n",
              "  <thead>\n",
              "    <tr style=\"text-align: right;\">\n",
              "      <th></th>\n",
              "      <th>title</th>\n",
              "      <th>genres</th>\n",
              "    </tr>\n",
              "    <tr>\n",
              "      <th>movieId</th>\n",
              "      <th></th>\n",
              "      <th></th>\n",
              "    </tr>\n",
              "  </thead>\n",
              "  <tbody>\n",
              "    <tr>\n",
              "      <th>151653</th>\n",
              "      <td>Welcome to Happiness (2015)</td>\n",
              "      <td>Comedy|Drama|Fantasy</td>\n",
              "    </tr>\n",
              "  </tbody>\n",
              "</table>\n",
              "</div>"
            ],
            "text/plain": [
              "                               title                genres\n",
              "movieId                                                   \n",
              "151653   Welcome to Happiness (2015)  Comedy|Drama|Fantasy"
            ]
          },
          "metadata": {
            "tags": []
          },
          "execution_count": 12
        }
      ]
    },
    {
      "cell_type": "code",
      "metadata": {
        "id": "8tQf6oxXxNR4",
        "colab_type": "code",
        "colab": {
          "base_uri": "https://localhost:8080/",
          "height": 35
        },
        "outputId": "eacf4c2b-87ac-4daf-df97-849b99edf50f"
      },
      "source": [
        "sample_title = movies[\"title\"][1]\n",
        "sample_title"
      ],
      "execution_count": null,
      "outputs": [
        {
          "output_type": "execute_result",
          "data": {
            "application/vnd.google.colaboratory.intrinsic+json": {
              "type": "string"
            },
            "text/plain": [
              "'Toy Story (1995)'"
            ]
          },
          "metadata": {
            "tags": []
          },
          "execution_count": 13
        }
      ]
    },
    {
      "cell_type": "code",
      "metadata": {
        "id": "xzSsODJ9znFR",
        "colab_type": "code",
        "colab": {
          "base_uri": "https://localhost:8080/",
          "height": 35
        },
        "outputId": "d7941fd5-4f67-4aed-8863-3f3cc915b16d"
      },
      "source": [
        "sample_title[-5:-1]"
      ],
      "execution_count": null,
      "outputs": [
        {
          "output_type": "execute_result",
          "data": {
            "application/vnd.google.colaboratory.intrinsic+json": {
              "type": "string"
            },
            "text/plain": [
              "'1995'"
            ]
          },
          "metadata": {
            "tags": []
          },
          "execution_count": 16
        }
      ]
    },
    {
      "cell_type": "code",
      "metadata": {
        "id": "ohP_GwTKz54s",
        "colab_type": "code",
        "colab": {}
      },
      "source": [
        "def get_year(x):\n",
        "  return x[-5:-1]"
      ],
      "execution_count": null,
      "outputs": []
    },
    {
      "cell_type": "code",
      "metadata": {
        "id": "MtpqncRD0Dmx",
        "colab_type": "code",
        "colab": {
          "base_uri": "https://localhost:8080/",
          "height": 35
        },
        "outputId": "8699f1ae-12ba-4f07-9039-9e7d223e575c"
      },
      "source": [
        "get_year(sample_title)"
      ],
      "execution_count": null,
      "outputs": [
        {
          "output_type": "execute_result",
          "data": {
            "application/vnd.google.colaboratory.intrinsic+json": {
              "type": "string"
            },
            "text/plain": [
              "'1995'"
            ]
          },
          "metadata": {
            "tags": []
          },
          "execution_count": 18
        }
      ]
    },
    {
      "cell_type": "code",
      "metadata": {
        "id": "9T3turhL0IJC",
        "colab_type": "code",
        "colab": {
          "base_uri": "https://localhost:8080/",
          "height": 34
        },
        "outputId": "83cc6a57-79da-4bf1-b73a-5596b5b981e3"
      },
      "source": [
        "years = []\n",
        "\n",
        "for title in movies[\"title\"]:\n",
        "  years.append(get_year(title))\n",
        "\n",
        "# 중복 제거\n",
        "list(set(years))[:5]"
      ],
      "execution_count": null,
      "outputs": [
        {
          "output_type": "execute_result",
          "data": {
            "text/plain": [
              "['2007', '008)', '2003', '1938', '1968']"
            ]
          },
          "metadata": {
            "tags": []
          },
          "execution_count": 22
        }
      ]
    },
    {
      "cell_type": "code",
      "metadata": {
        "id": "8dNSaX9s0s8h",
        "colab_type": "code",
        "colab": {
          "base_uri": "https://localhost:8080/",
          "height": 316
        },
        "outputId": "9534e32b-5a84-4cf7-8310-f0e3a2611b76"
      },
      "source": [
        "# Pandas apply, Python lambda expression 으로 간단하게 풀어보기\n",
        "# apply() : title이라는 컬럼에 함수를 반복 적용, for 문의 기능\n",
        "# apply(함수) : 함수를 lambda 함수로도 사용 가능\n",
        "\n",
        "# movies['title'].apply(get_year)\n",
        "movies['year'] = movies['title'].apply(lambda x: x[-5:-1])\n",
        "\n",
        "# 중복 제거\n",
        "movies['year'].unique()"
      ],
      "execution_count": null,
      "outputs": [
        {
          "output_type": "execute_result",
          "data": {
            "text/plain": [
              "array(['1995', '1994', '1996', '1976', '1992', '1967', '1993', '1964',\n",
              "       '1977', '1965', '1982', '1990', '1991', '1989', '1937', '1940',\n",
              "       '1969', '1981', '1973', '1970', '1955', '1959', '1968', '1988',\n",
              "       '1997', '1972', '1943', '1952', '1951', '1957', '1961', '1958',\n",
              "       '1954', '1934', '1944', '1960', '1963', '1942', '1941', '1953',\n",
              "       '1939', '1950', '1946', '1945', '1938', '1947', '1935', '1936',\n",
              "       '1956', '1949', '1932', '1975', '1974', '1971', '1979', '1987',\n",
              "       '1986', '1980', '1978', '1985', '1966', '1962', '1983', '1984',\n",
              "       '1948', '1933', '1931', '1922', '1998', '1929', '1930', '1927',\n",
              "       '1928', '1999', '2000', '1926', '1919', '1921', '1925', '1923',\n",
              "       '2001', '2002', '2003', '1920', '1915', '1924', '2004', '1916',\n",
              "       '1917', '999)', '2005', '2006', '1902', 'lon ', '1903', '2007',\n",
              "       '2008', '008)', '007)', '2009', '2010', '2011', '2012', '011)',\n",
              "       '998)', '995)', '2013', '012)', '973)', '2014', '2015', '014)',\n",
              "       '2016', '2017', '2018', '1908', 'r On', ' Roa', 'atso', 'imal',\n",
              "       'erso', 'ligh', 'he O', 'osmo', ' Bab', 'ron ', 'irro'],\n",
              "      dtype=object)"
            ]
          },
          "metadata": {
            "tags": []
          },
          "execution_count": 28
        }
      ]
    },
    {
      "cell_type": "code",
      "metadata": {
        "id": "vpoq8tFr8Bhr",
        "colab_type": "code",
        "colab": {
          "base_uri": "https://localhost:8080/",
          "height": 106
        },
        "outputId": "03b74e9e-cdf3-4627-dec9-e7de521f2ae7"
      },
      "source": [
        "movies[movies['year'] == '012)']"
      ],
      "execution_count": null,
      "outputs": [
        {
          "output_type": "execute_result",
          "data": {
            "text/html": [
              "<div>\n",
              "<style scoped>\n",
              "    .dataframe tbody tr th:only-of-type {\n",
              "        vertical-align: middle;\n",
              "    }\n",
              "\n",
              "    .dataframe tbody tr th {\n",
              "        vertical-align: top;\n",
              "    }\n",
              "\n",
              "    .dataframe thead th {\n",
              "        text-align: right;\n",
              "    }\n",
              "</style>\n",
              "<table border=\"1\" class=\"dataframe\">\n",
              "  <thead>\n",
              "    <tr style=\"text-align: right;\">\n",
              "      <th></th>\n",
              "      <th>title</th>\n",
              "      <th>genres</th>\n",
              "      <th>year</th>\n",
              "    </tr>\n",
              "    <tr>\n",
              "      <th>movieId</th>\n",
              "      <th></th>\n",
              "      <th></th>\n",
              "      <th></th>\n",
              "    </tr>\n",
              "  </thead>\n",
              "  <tbody>\n",
              "    <tr>\n",
              "      <th>102084</th>\n",
              "      <td>Justice League: Doom (2012)</td>\n",
              "      <td>Action|Animation|Fantasy</td>\n",
              "      <td>012)</td>\n",
              "    </tr>\n",
              "  </tbody>\n",
              "</table>\n",
              "</div>"
            ],
            "text/plain": [
              "                                title                    genres  year\n",
              "movieId                                                              \n",
              "102084   Justice League: Doom (2012)   Action|Animation|Fantasy  012)"
            ]
          },
          "metadata": {
            "tags": []
          },
          "execution_count": 29
        }
      ]
    },
    {
      "cell_type": "code",
      "metadata": {
        "id": "68fQs1Z88J4c",
        "colab_type": "code",
        "colab": {
          "base_uri": "https://localhost:8080/",
          "height": 35
        },
        "outputId": "4f2fe2ef-7fe0-4c81-aef7-d8622a85f2f7"
      },
      "source": [
        "# Pandas .loc[] == location\n",
        "# movies.loc[index, column]\n",
        "movies.loc[102084, 'title'].strip() # strip() == trim()"
      ],
      "execution_count": null,
      "outputs": [
        {
          "output_type": "execute_result",
          "data": {
            "application/vnd.google.colaboratory.intrinsic+json": {
              "type": "string"
            },
            "text/plain": [
              "'Justice League: Doom (2012)'"
            ]
          },
          "metadata": {
            "tags": []
          },
          "execution_count": 31
        }
      ]
    },
    {
      "cell_type": "code",
      "metadata": {
        "id": "DAvuhTfW8h9R",
        "colab_type": "code",
        "colab": {
          "base_uri": "https://localhost:8080/",
          "height": 246
        },
        "outputId": "238dff6c-eb44-4516-c2c0-ba07357d802c"
      },
      "source": [
        "movies['title'] = movies['title'].apply(lambda x: x.strip())\n",
        "movies['title']"
      ],
      "execution_count": null,
      "outputs": [
        {
          "output_type": "execute_result",
          "data": {
            "text/plain": [
              "movieId\n",
              "1                                  Toy Story (1995)\n",
              "2                                    Jumanji (1995)\n",
              "3                           Grumpier Old Men (1995)\n",
              "4                          Waiting to Exhale (1995)\n",
              "5                Father of the Bride Part II (1995)\n",
              "                            ...                    \n",
              "193581    Black Butler: Book of the Atlantic (2017)\n",
              "193583                 No Game No Life: Zero (2017)\n",
              "193585                                 Flint (2017)\n",
              "193587          Bungo Stray Dogs: Dead Apple (2018)\n",
              "193609          Andrew Dice Clay: Dice Rules (1991)\n",
              "Name: title, Length: 9742, dtype: object"
            ]
          },
          "metadata": {
            "tags": []
          },
          "execution_count": 33
        }
      ]
    },
    {
      "cell_type": "code",
      "metadata": {
        "id": "10L8ruFi87NG",
        "colab_type": "code",
        "colab": {
          "base_uri": "https://localhost:8080/",
          "height": 281
        },
        "outputId": "6551a3da-2f46-4ad9-aea9-9f90b68a27b2"
      },
      "source": [
        "movies['year'] = movies['title'].apply(lambda x: x[-5:-1])\n",
        "movies['year'].unique()"
      ],
      "execution_count": null,
      "outputs": [
        {
          "output_type": "execute_result",
          "data": {
            "text/plain": [
              "array(['1995', '1994', '1996', '1976', '1992', '1967', '1993', '1964',\n",
              "       '1977', '1965', '1982', '1990', '1991', '1989', '1937', '1940',\n",
              "       '1969', '1981', '1973', '1970', '1955', '1959', '1968', '1988',\n",
              "       '1997', '1972', '1943', '1952', '1951', '1957', '1961', '1958',\n",
              "       '1954', '1934', '1944', '1960', '1963', '1942', '1941', '1953',\n",
              "       '1939', '1950', '1946', '1945', '1938', '1947', '1935', '1936',\n",
              "       '1956', '1949', '1932', '1975', '1974', '1971', '1979', '1987',\n",
              "       '1986', '1980', '1978', '1985', '1966', '1962', '1983', '1984',\n",
              "       '1948', '1933', '1931', '1922', '1998', '1929', '1930', '1927',\n",
              "       '1928', '1999', '2000', '1926', '1919', '1921', '1925', '1923',\n",
              "       '2001', '2002', '2003', '1920', '1915', '1924', '2004', '1916',\n",
              "       '1917', '2005', '2006', '1902', 'lon ', '1903', '2007', '2008',\n",
              "       '2009', '2010', '2011', '2012', '2013', '2014', '2015', '2016',\n",
              "       '2017', '2018', '1908', 'r On', ' Roa', 'atso', 'imal', 'erso',\n",
              "       'ligh', 'he O', 'osmo', ' Bab', 'ron ', 'irro'], dtype=object)"
            ]
          },
          "metadata": {
            "tags": []
          },
          "execution_count": 35
        }
      ]
    },
    {
      "cell_type": "code",
      "metadata": {
        "id": "zFFjUE1A9ONv",
        "colab_type": "code",
        "colab": {
          "base_uri": "https://localhost:8080/",
          "height": 263
        },
        "outputId": "86e4ef24-2dc3-407b-92f6-5d31562807e9"
      },
      "source": [
        "errors = ['lon ', 'r On', ' Roa', 'atso', 'imal', 'erso',\n",
        "          'ligh', 'he O', 'osmo', ' Bab', 'ron ', 'irro']\n",
        "\n",
        "# errors가 포함된 영화 출력 : 포함 ==> True, 포함 X ==> False\n",
        "# movies 에서 True만 출력\n",
        "# movies[movies['year'].isin(errors)]\n",
        "\n",
        "\n",
        "# Pandas .loc[] == location\n",
        "# movies.loc[필터링정보, column]\n",
        "# errors -> 2050으로\n",
        "movies.loc[movies['year'].isin(errors), 'year'] = '2050'\n",
        "movies['year'].unique()"
      ],
      "execution_count": null,
      "outputs": [
        {
          "output_type": "execute_result",
          "data": {
            "text/plain": [
              "array(['1995', '1994', '1996', '1976', '1992', '1967', '1993', '1964',\n",
              "       '1977', '1965', '1982', '1990', '1991', '1989', '1937', '1940',\n",
              "       '1969', '1981', '1973', '1970', '1955', '1959', '1968', '1988',\n",
              "       '1997', '1972', '1943', '1952', '1951', '1957', '1961', '1958',\n",
              "       '1954', '1934', '1944', '1960', '1963', '1942', '1941', '1953',\n",
              "       '1939', '1950', '1946', '1945', '1938', '1947', '1935', '1936',\n",
              "       '1956', '1949', '1932', '1975', '1974', '1971', '1979', '1987',\n",
              "       '1986', '1980', '1978', '1985', '1966', '1962', '1983', '1984',\n",
              "       '1948', '1933', '1931', '1922', '1998', '1929', '1930', '1927',\n",
              "       '1928', '1999', '2000', '1926', '1919', '1921', '1925', '1923',\n",
              "       '2001', '2002', '2003', '1920', '1915', '1924', '2004', '1916',\n",
              "       '1917', '2005', '2006', '1902', '2050', '1903', '2007', '2008',\n",
              "       '2009', '2010', '2011', '2012', '2013', '2014', '2015', '2016',\n",
              "       '2017', '2018', '1908'], dtype=object)"
            ]
          },
          "metadata": {
            "tags": []
          },
          "execution_count": 39
        }
      ]
    }
  ]
}